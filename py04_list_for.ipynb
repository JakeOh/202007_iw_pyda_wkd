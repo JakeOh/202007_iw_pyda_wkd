{
  "nbformat": 4,
  "nbformat_minor": 0,
  "metadata": {
    "colab": {
      "name": "py04_list_for.ipynb",
      "provenance": [],
      "collapsed_sections": [],
      "authorship_tag": "ABX9TyPIH0pq67sQprVjDiBbd4NV",
      "include_colab_link": true
    },
    "kernelspec": {
      "name": "python3",
      "display_name": "Python 3"
    }
  },
  "cells": [
    {
      "cell_type": "markdown",
      "metadata": {
        "id": "view-in-github",
        "colab_type": "text"
      },
      "source": [
        "<a href=\"https://colab.research.google.com/github/JakeOh/202007_iw_pyda_wkd/blob/master/py04_list_for.ipynb\" target=\"_parent\"><img src=\"https://colab.research.google.com/assets/colab-badge.svg\" alt=\"Open In Colab\"/></a>"
      ]
    },
    {
      "cell_type": "markdown",
      "metadata": {
        "id": "jMt0a_3tSUnG",
        "colab_type": "text"
      },
      "source": [
        "# List"
      ]
    },
    {
      "cell_type": "markdown",
      "metadata": {
        "id": "o-av1UMcS_K9",
        "colab_type": "text"
      },
      "source": [
        "리스트(list): 여러개의 자료(데이터)를 하나의 변수에 저장하기 위해 만들어진 타입."
      ]
    },
    {
      "cell_type": "code",
      "metadata": {
        "id": "vgRJdvmsSMuC",
        "colab_type": "code",
        "colab": {
          "base_uri": "https://localhost:8080/",
          "height": 69
        },
        "outputId": "27ba4e22-75bb-4c30-ab45-c59d4817658e"
      },
      "source": [
        "numbers = [1, 2, 3, 4, 5]\n",
        "print(type(numbers))  # list\n",
        "print(numbers)\n",
        "print(len(numbers))  # len(리스트): 리스트의 길이(리스트의 원소 개수)"
      ],
      "execution_count": null,
      "outputs": [
        {
          "output_type": "stream",
          "text": [
            "<class 'list'>\n",
            "[1, 2, 3, 4, 5]\n",
            "5\n"
          ],
          "name": "stdout"
        }
      ]
    },
    {
      "cell_type": "code",
      "metadata": {
        "id": "dFfJ-G9hTo5L",
        "colab_type": "code",
        "colab": {
          "base_uri": "https://localhost:8080/",
          "height": 69
        },
        "outputId": "5f190521-a600-4091-84b9-1a89c5aed52f"
      },
      "source": [
        "# 리스트는 저장하고 있는 원소들을 찾을 수 있는 인덱스(일련번호)가 있음.\n",
        "# 리스트의 인덱스는 0부터 시작함.\n",
        "# 리스트의 마지막 인덱스는 (원소 개수 - 1)이 됨.\n",
        "print(numbers[0])\n",
        "print(numbers[1])\n",
        "print(numbers[4])"
      ],
      "execution_count": null,
      "outputs": [
        {
          "output_type": "stream",
          "text": [
            "1\n",
            "2\n",
            "5\n"
          ],
          "name": "stdout"
        }
      ]
    },
    {
      "cell_type": "code",
      "metadata": {
        "id": "x0P-DP5VVgeW",
        "colab_type": "code",
        "colab": {
          "base_uri": "https://localhost:8080/",
          "height": 69
        },
        "outputId": "38acf68b-f944-47d7-c2ff-f4a263cbf1a2"
      },
      "source": [
        "# 문자열은 일종의 리스트 - 문자들의 리스트\n",
        "s = '안녕하세요'\n",
        "print(len(s))  #  len(문자열): 문자열의 길이(문자의 개수)\n",
        "print(s[0])\n",
        "print(s[4])"
      ],
      "execution_count": null,
      "outputs": [
        {
          "output_type": "stream",
          "text": [
            "5\n",
            "안\n",
            "요\n"
          ],
          "name": "stdout"
        }
      ]
    },
    {
      "cell_type": "code",
      "metadata": {
        "id": "RS-vwM2oWQuk",
        "colab_type": "code",
        "colab": {
          "base_uri": "https://localhost:8080/",
          "height": 51
        },
        "outputId": "af4655c0-a064-4226-e8a2-6c6822b19466"
      },
      "source": [
        "# 리스트 + 리스트: 두개의 리스트를 합쳐서 하나의 리스트로 만듦(concatenate)\n",
        "# 리스트 * 정수: 리스트의 원소들을 정수만큼 반복.\n",
        "print([1, 2, 3] + [4, 5, 6])\n",
        "print([1, 2, 3] * 3)"
      ],
      "execution_count": null,
      "outputs": [
        {
          "output_type": "stream",
          "text": [
            "[1, 2, 3, 4, 5, 6]\n",
            "[1, 2, 3, 1, 2, 3, 1, 2, 3]\n"
          ],
          "name": "stdout"
        }
      ]
    },
    {
      "cell_type": "code",
      "metadata": {
        "id": "9jNMafFgW_5-",
        "colab_type": "code",
        "colab": {
          "base_uri": "https://localhost:8080/",
          "height": 51
        },
        "outputId": "21df5d45-08b2-47c2-e097-03af86ba9813"
      },
      "source": [
        "# 리스트 슬라이싱(slicing)\n",
        "# 리스트[start:end]: start <= 인덱스 < end 범위의 원소들을 선택\n",
        "numbers = [2, 4, 6, 8, 10, 12]\n",
        "# 0 <= i < 3 범위의 부분집합 slicing\n",
        "print(numbers[0:3])\n",
        "print(numbers[2:4])  # 2 <= i < 4 부분집합"
      ],
      "execution_count": null,
      "outputs": [
        {
          "output_type": "stream",
          "text": [
            "[2, 4, 6]\n",
            "[6, 8]\n"
          ],
          "name": "stdout"
        }
      ]
    },
    {
      "cell_type": "code",
      "metadata": {
        "id": "7tEYKO6rYvdN",
        "colab_type": "code",
        "colab": {
          "base_uri": "https://localhost:8080/",
          "height": 69
        },
        "outputId": "db0a0a51-d144-4d40-ab15-182db7e56464"
      },
      "source": [
        "# 시작 인덱스를 생략한 경우는 시작 인덱스는 0이 됨.\n",
        "print(numbers[:3])  # numbers[0:3]\n",
        "# 마지막 인덱스를 생략한 경우는 마지막 원소까지 선택.\n",
        "print(numbers[3:])\n",
        "# start와 end를 모두 생략하면, 처음부터 끝까지\n",
        "print(numbers[:])"
      ],
      "execution_count": null,
      "outputs": [
        {
          "output_type": "stream",
          "text": [
            "[2, 4, 6]\n",
            "[8, 10, 12]\n",
            "[2, 4, 6, 8, 10, 12]\n"
          ],
          "name": "stdout"
        }
      ]
    },
    {
      "cell_type": "code",
      "metadata": {
        "id": "XRo5k7PlaEt1",
        "colab_type": "code",
        "colab": {
          "base_uri": "https://localhost:8080/",
          "height": 51
        },
        "outputId": "61dc795a-58d2-4515-b192-08fdfbd99228"
      },
      "source": [
        "# 리스트의 음수 인덱스\n",
        "print(numbers[-2:])\n",
        "print(numbers[-4:-2])"
      ],
      "execution_count": null,
      "outputs": [
        {
          "output_type": "stream",
          "text": [
            "[10, 12]\n",
            "[6, 8]\n"
          ],
          "name": "stdout"
        }
      ]
    },
    {
      "cell_type": "code",
      "metadata": {
        "id": "1efr2IQ3bUic",
        "colab_type": "code",
        "colab": {
          "base_uri": "https://localhost:8080/",
          "height": 51
        },
        "outputId": "d031a66a-e803-433f-fc9f-eb928c7f77ab"
      },
      "source": [
        "# 리스트의 slicing 방법은 문자열에서도 똑같이 적용됨.\n",
        "message = 'Hello, Python!'\n",
        "print(message[:5])\n",
        "print(message[-5:])"
      ],
      "execution_count": null,
      "outputs": [
        {
          "output_type": "stream",
          "text": [
            "Hello\n",
            "thon!\n"
          ],
          "name": "stdout"
        }
      ]
    },
    {
      "cell_type": "code",
      "metadata": {
        "id": "AgocnmM0e878",
        "colab_type": "code",
        "colab": {
          "base_uri": "https://localhost:8080/",
          "height": 103
        },
        "outputId": "893214d8-32b7-4011-ceae-0264787c0425"
      },
      "source": [
        "# 다차원 리스트: 리스트를 원소로 갖는 리스트\n",
        "numbers = [\n",
        "           [1, 2, 3, 4],\n",
        "           [5, 6, 7, 8],\n",
        "           [9, 10, 11, 12]\n",
        "]\n",
        "print(len(numbers))\n",
        "print(numbers[2])\n",
        "print(numbers[0][0])\n",
        "print(numbers[-1][-1])  # numbers[2][3]\n",
        "print(numbers[0:2])  # slicing"
      ],
      "execution_count": null,
      "outputs": [
        {
          "output_type": "stream",
          "text": [
            "3\n",
            "[9, 10, 11, 12]\n",
            "1\n",
            "12\n",
            "[[1, 2, 3, 4], [5, 6, 7, 8]]\n"
          ],
          "name": "stdout"
        }
      ]
    },
    {
      "cell_type": "markdown",
      "metadata": {
        "id": "HjpysB3iiKAj",
        "colab_type": "text"
      },
      "source": [
        "# Tuple(튜플)"
      ]
    },
    {
      "cell_type": "markdown",
      "metadata": {
        "id": "ksA7_9SMiPhR",
        "colab_type": "text"
      },
      "source": [
        "tuple(튜플): 변경할 수 없는 리스트"
      ]
    },
    {
      "cell_type": "code",
      "metadata": {
        "id": "g8S4KzjgiN-J",
        "colab_type": "code",
        "colab": {
          "base_uri": "https://localhost:8080/",
          "height": 51
        },
        "outputId": "7cf94e09-995a-45d8-c3b7-88fbb4e84c85"
      },
      "source": [
        "number_list = [1, 2, 3]  # 숫자들의 리스트\n",
        "number_tuple = (1, 2, 3)  # 숫자들의 튜플\n",
        "print(number_list, type(number_list))\n",
        "print(number_tuple, type(number_tuple))"
      ],
      "execution_count": null,
      "outputs": [
        {
          "output_type": "stream",
          "text": [
            "[1, 2, 3] <class 'list'>\n",
            "(1, 2, 3) <class 'tuple'>\n"
          ],
          "name": "stdout"
        }
      ]
    },
    {
      "cell_type": "code",
      "metadata": {
        "id": "VhlX1hRoi6Hr",
        "colab_type": "code",
        "colab": {
          "base_uri": "https://localhost:8080/",
          "height": 86
        },
        "outputId": "21a90030-caa0-4fbe-f309-ae3f79ea2d73"
      },
      "source": [
        "print(number_list[0])  # 인덱스\n",
        "print(number_tuple[0])\n",
        "print(number_list[:2])  # slicing\n",
        "print(number_tuple[:2])"
      ],
      "execution_count": null,
      "outputs": [
        {
          "output_type": "stream",
          "text": [
            "1\n",
            "1\n",
            "[1, 2]\n",
            "(1, 2)\n"
          ],
          "name": "stdout"
        }
      ]
    },
    {
      "cell_type": "code",
      "metadata": {
        "id": "6oNYr17SjpZZ",
        "colab_type": "code",
        "colab": {
          "base_uri": "https://localhost:8080/",
          "height": 69
        },
        "outputId": "9ef2dc69-15c3-42e8-b216-f4caef460bd9"
      },
      "source": [
        "# 리스트는 저장된 값을 변경/추가/삭제하는 게 가능.\n",
        "number_list[0] = 100  # 값(원소) 변경\n",
        "print(number_list)\n",
        "number_list.append(123)  # 값(원소) 추가\n",
        "print(number_list)\n",
        "number_list.remove(3)  # 값(원소) 삭제\n",
        "print(number_list)"
      ],
      "execution_count": null,
      "outputs": [
        {
          "output_type": "stream",
          "text": [
            "[100, 2, 3]\n",
            "[100, 2, 3, 123]\n",
            "[100, 2, 123]\n"
          ],
          "name": "stdout"
        }
      ]
    },
    {
      "cell_type": "code",
      "metadata": {
        "id": "7wQLa94alR-D",
        "colab_type": "code",
        "colab": {}
      },
      "source": [
        "# number_tuple[0] = 100\n",
        "# 튜플은 값을 변경할 수 없음.\n",
        "# append(원소 추가), remove(원소 삭제)할 수 없음."
      ],
      "execution_count": null,
      "outputs": []
    },
    {
      "cell_type": "markdown",
      "metadata": {
        "id": "Lt_dVaaKmcZ6",
        "colab_type": "text"
      },
      "source": [
        "# for 반복문"
      ]
    },
    {
      "cell_type": "code",
      "metadata": {
        "id": "phbKrs2Ymf5e",
        "colab_type": "code",
        "colab": {
          "base_uri": "https://localhost:8080/",
          "height": 103
        },
        "outputId": "974cadb1-71c5-4fcd-ddf7-a0ea3e900376"
      },
      "source": [
        "print('*')\n",
        "print('**')\n",
        "print('***')\n",
        "print('****')\n",
        "print('*****')"
      ],
      "execution_count": null,
      "outputs": [
        {
          "output_type": "stream",
          "text": [
            "*\n",
            "**\n",
            "***\n",
            "****\n",
            "*****\n"
          ],
          "name": "stdout"
        }
      ]
    },
    {
      "cell_type": "code",
      "metadata": {
        "id": "8Y8VgITYnM8R",
        "colab_type": "code",
        "colab": {
          "base_uri": "https://localhost:8080/",
          "height": 103
        },
        "outputId": "a7ba7af2-d6b7-4183-e6e8-1dac84242ba4"
      },
      "source": [
        "print('*' * 1)\n",
        "print('*' * 2)\n",
        "print('*' * 3)\n",
        "print('*' * 4)\n",
        "print('*' * 5)"
      ],
      "execution_count": null,
      "outputs": [
        {
          "output_type": "stream",
          "text": [
            "*\n",
            "**\n",
            "***\n",
            "****\n",
            "*****\n"
          ],
          "name": "stdout"
        }
      ]
    },
    {
      "cell_type": "markdown",
      "metadata": {
        "id": "2rDqPE24o4rN",
        "colab_type": "text"
      },
      "source": [
        "<pre>\n",
        "for 변수 in 리스트/튜플/반복가능한 객체:\n",
        "    반복할 문장들\n",
        "</pre>"
      ]
    },
    {
      "cell_type": "code",
      "metadata": {
        "id": "yxo5Mr1Nnhxo",
        "colab_type": "code",
        "colab": {
          "base_uri": "https://localhost:8080/",
          "height": 103
        },
        "outputId": "e2416046-89de-4621-ba17-6e3584367ff3"
      },
      "source": [
        "for i in [1, 2, 3, 4, 5]:\n",
        "    print('*' * i)"
      ],
      "execution_count": null,
      "outputs": [
        {
          "output_type": "stream",
          "text": [
            "*\n",
            "**\n",
            "***\n",
            "****\n",
            "*****\n"
          ],
          "name": "stdout"
        }
      ]
    },
    {
      "cell_type": "code",
      "metadata": {
        "id": "gJKVdrdgsiKp",
        "colab_type": "code",
        "colab": {
          "base_uri": "https://localhost:8080/",
          "height": 69
        },
        "outputId": "1060b9c3-eaeb-4da3-deba-ef23a6a30897"
      },
      "source": [
        "# range(start, end, step)\n",
        "# start <= x < end 범위의 숫자들을 step만큼씩 증가시키면서 숫자들을 생성.\n",
        "for x in range(0, 5, 2):  # (0, 2, 4)\n",
        "    print(x)"
      ],
      "execution_count": null,
      "outputs": [
        {
          "output_type": "stream",
          "text": [
            "0\n",
            "2\n",
            "4\n"
          ],
          "name": "stdout"
        }
      ]
    },
    {
      "cell_type": "code",
      "metadata": {
        "id": "eyWR-4pZuP55",
        "colab_type": "code",
        "colab": {
          "base_uri": "https://localhost:8080/",
          "height": 51
        },
        "outputId": "3bad31e0-6cbc-4b75-d5dd-b0b0c012de89"
      },
      "source": [
        "# range(start, end, step):\n",
        "# start >= x > end인 범위에서 step(음수)만큼씩 감소\n",
        "for x in range(5, 1, -2):  # (5, 3)\n",
        "    print(x)"
      ],
      "execution_count": null,
      "outputs": [
        {
          "output_type": "stream",
          "text": [
            "5\n",
            "3\n"
          ],
          "name": "stdout"
        }
      ]
    },
    {
      "cell_type": "code",
      "metadata": {
        "id": "6bVZBE_Ru7PO",
        "colab_type": "code",
        "colab": {
          "base_uri": "https://localhost:8080/",
          "height": 86
        },
        "outputId": "d13f9a3b-6267-4203-9eca-d11f1fea7c9a"
      },
      "source": [
        "# range(start, end)\n",
        "# start <= x < end 범위에서 1씩 증가하는 숫자들\n",
        "for x in range(1, 5):  # (1, 2, 3, 4)\n",
        "    print(x)"
      ],
      "execution_count": null,
      "outputs": [
        {
          "output_type": "stream",
          "text": [
            "1\n",
            "2\n",
            "3\n",
            "4\n"
          ],
          "name": "stdout"
        }
      ]
    },
    {
      "cell_type": "code",
      "metadata": {
        "id": "vDxECRpSveTo",
        "colab_type": "code",
        "colab": {
          "base_uri": "https://localhost:8080/",
          "height": 103
        },
        "outputId": "b76c7c01-2489-4889-a70c-37d382a95862"
      },
      "source": [
        "# range(end): 0 <= x < end 범위의 1씩 증가하는 숫자들\n",
        "for x in range(5):\n",
        "    print(x)"
      ],
      "execution_count": null,
      "outputs": [
        {
          "output_type": "stream",
          "text": [
            "0\n",
            "1\n",
            "2\n",
            "3\n",
            "4\n"
          ],
          "name": "stdout"
        }
      ]
    },
    {
      "cell_type": "code",
      "metadata": {
        "id": "OhQD7DGhv4nG",
        "colab_type": "code",
        "colab": {
          "base_uri": "https://localhost:8080/",
          "height": 206
        },
        "outputId": "3ea43fe6-7a3f-499b-e62b-cd1c530a3a70"
      },
      "source": [
        "# 빈 리스트(empty list)를 생성\n",
        "numbers = []\n",
        "print(numbers)\n",
        "# 빈 리스트에서 1 이상 10 이하의 숫자들을 차례로 저장\n",
        "for x in range(1, 11):\n",
        "    numbers.append(x)\n",
        "    print(numbers)"
      ],
      "execution_count": null,
      "outputs": [
        {
          "output_type": "stream",
          "text": [
            "[]\n",
            "[1]\n",
            "[1, 2]\n",
            "[1, 2, 3]\n",
            "[1, 2, 3, 4]\n",
            "[1, 2, 3, 4, 5]\n",
            "[1, 2, 3, 4, 5, 6]\n",
            "[1, 2, 3, 4, 5, 6, 7]\n",
            "[1, 2, 3, 4, 5, 6, 7, 8]\n",
            "[1, 2, 3, 4, 5, 6, 7, 8, 9]\n",
            "[1, 2, 3, 4, 5, 6, 7, 8, 9, 10]\n"
          ],
          "name": "stdout"
        }
      ]
    },
    {
      "cell_type": "code",
      "metadata": {
        "id": "lWV7fcaZxXwI",
        "colab_type": "code",
        "colab": {
          "base_uri": "https://localhost:8080/",
          "height": 103
        },
        "outputId": "a6fddb6d-faa0-42d3-ff23-3e5f3f3a7c47"
      },
      "source": [
        "evens = []  # 짝수들을 저장하기 위한 리스트\n",
        "# 0이상 10 미만의 숫자들 중에서 짝수들만 evens에 append\n",
        "# 결과 출력\n",
        "for x in range(0, 10, 2):\n",
        "    evens.append(x)\n",
        "    print(evens)"
      ],
      "execution_count": null,
      "outputs": [
        {
          "output_type": "stream",
          "text": [
            "[0]\n",
            "[0, 2]\n",
            "[0, 2, 4]\n",
            "[0, 2, 4, 6]\n",
            "[0, 2, 4, 6, 8]\n"
          ],
          "name": "stdout"
        }
      ]
    },
    {
      "cell_type": "code",
      "metadata": {
        "id": "QmKptbgQyUCX",
        "colab_type": "code",
        "colab": {
          "base_uri": "https://localhost:8080/",
          "height": 103
        },
        "outputId": "6ae7589d-2f92-4a6f-bdf9-adca4d9adc94"
      },
      "source": [
        "evens2 = []\n",
        "for x in range(10):  # 0이상 10미만의 숫자들에 대해서 반복\n",
        "    if x % 2 == 0:  # x가 짝수이면,\n",
        "        evens2.append(x)  # x를 리스트에 추가(append)\n",
        "        print(evens2)  # 리스트를 출력"
      ],
      "execution_count": null,
      "outputs": [
        {
          "output_type": "stream",
          "text": [
            "[0]\n",
            "[0, 2]\n",
            "[0, 2, 4]\n",
            "[0, 2, 4, 6]\n",
            "[0, 2, 4, 6, 8]\n"
          ],
          "name": "stdout"
        }
      ]
    },
    {
      "cell_type": "code",
      "metadata": {
        "id": "HpjRI3f30x_3",
        "colab_type": "code",
        "colab": {
          "base_uri": "https://localhost:8080/",
          "height": 103
        },
        "outputId": "94a34ae0-8099-4258-b509-3b2f64fdf5c6"
      },
      "source": [
        "# break: 가장 가까운 반복문을 멈춤.\n",
        "for x in range(10):  # 10보다 작은 0또는 양의 정수들에 대해서\n",
        "    if x >= 5:  # x가 5 이상이면\n",
        "        break  # 반복을 멈춤.\n",
        "    print(x)  # x를 출력"
      ],
      "execution_count": null,
      "outputs": [
        {
          "output_type": "stream",
          "text": [
            "0\n",
            "1\n",
            "2\n",
            "3\n",
            "4\n"
          ],
          "name": "stdout"
        }
      ]
    },
    {
      "cell_type": "code",
      "metadata": {
        "id": "RFHjOkud2dEY",
        "colab_type": "code",
        "colab": {
          "base_uri": "https://localhost:8080/",
          "height": 172
        },
        "outputId": "5b3e371b-975c-497e-e565-af125abbef73"
      },
      "source": [
        "# continue: continue 아래의 문장을 실행하지 않고, 다음 반복을 실행.\n",
        "for x in range(10):\n",
        "    if x == 5:\n",
        "        continue\n",
        "    print(x)"
      ],
      "execution_count": null,
      "outputs": [
        {
          "output_type": "stream",
          "text": [
            "0\n",
            "1\n",
            "2\n",
            "3\n",
            "4\n",
            "6\n",
            "7\n",
            "8\n",
            "9\n"
          ],
          "name": "stdout"
        }
      ]
    },
    {
      "cell_type": "code",
      "metadata": {
        "id": "gXXjbWvn7ZiQ",
        "colab_type": "code",
        "colab": {
          "base_uri": "https://localhost:8080/",
          "height": 34
        },
        "outputId": "3a22e44f-926c-4b61-b515-987b29dddcfe"
      },
      "source": [
        "# List Comprehension\n",
        "# numbers = []\n",
        "# for x in range(1, 11):\n",
        "#     numbers.append(x)\n",
        "\n",
        "# Ctrl+/: 선택된 영역(커서 위치)를 주석 토글\n",
        "\n",
        "numbers = [x for x in range(1, 11)]\n",
        "# 1 ~ 11 범위의 숫자 x에 대해서, 그 숫자 x를 리스트에 추가 \n",
        "print(numbers)"
      ],
      "execution_count": null,
      "outputs": [
        {
          "output_type": "stream",
          "text": [
            "[1, 2, 3, 4, 5, 6, 7, 8, 9, 10]\n"
          ],
          "name": "stdout"
        }
      ]
    },
    {
      "cell_type": "code",
      "metadata": {
        "id": "gJj_lyQ89F7W",
        "colab_type": "code",
        "colab": {
          "base_uri": "https://localhost:8080/",
          "height": 34
        },
        "outputId": "678c4f37-73a0-4c3a-c800-afa01782328c"
      },
      "source": [
        "scores = [100, 50, 90, 70, 20, 80]\n",
        "\n",
        "scores2 = []  # scores의 점수들 중에서 60점 이상인 점수들만 추가\n",
        "for x in scores:  # scores의 원소들에 대해서 반복\n",
        "    if x >= 60:  # 점수가 60점 이상이면\n",
        "        scores2.append(x)  # 새로운 리스트에 추가\n",
        "\n",
        "print(scores2)"
      ],
      "execution_count": null,
      "outputs": [
        {
          "output_type": "stream",
          "text": [
            "[100, 90, 70, 80]\n"
          ],
          "name": "stdout"
        }
      ]
    },
    {
      "cell_type": "code",
      "metadata": {
        "id": "_POMc_zy-gM2",
        "colab_type": "code",
        "colab": {
          "base_uri": "https://localhost:8080/",
          "height": 34
        },
        "outputId": "7397fac8-278f-41dd-bd30-2d20733bacf5"
      },
      "source": [
        "scores3 = [x for x in scores if x >= 60]\n",
        "print(scores3)"
      ],
      "execution_count": null,
      "outputs": [
        {
          "output_type": "stream",
          "text": [
            "[100, 90, 70, 80]\n"
          ],
          "name": "stdout"
        }
      ]
    },
    {
      "cell_type": "code",
      "metadata": {
        "id": "G8miTyn8_aXE",
        "colab_type": "code",
        "colab": {
          "base_uri": "https://localhost:8080/",
          "height": 34
        },
        "outputId": "11dfd8d2-be31-47ec-d959-f5aa80ca011b"
      },
      "source": [
        "gender = ['male', 'female', 'female', 'male']\n",
        "\n",
        "gender_encode = []  # male: 0, female:1 변환 저장\n",
        "for g in gender:  # 리스트 gender의 모든 원소들에 대해서 반복\n",
        "    if g == 'male':              # 성별이 'male'이면\n",
        "        gender_encode.append(0)  # 0을 새로운 리스트에 추가\n",
        "    else:                        # 성별이 'male'이 아니면('female'이면)\n",
        "        gender_encode.append(1)  # 1을 새로운 리스트에 추가\n",
        "\n",
        "print(gender_encode)"
      ],
      "execution_count": null,
      "outputs": [
        {
          "output_type": "stream",
          "text": [
            "[0, 1, 1, 0]\n"
          ],
          "name": "stdout"
        }
      ]
    },
    {
      "cell_type": "code",
      "metadata": {
        "id": "PUZie-j6Cgak",
        "colab_type": "code",
        "colab": {
          "base_uri": "https://localhost:8080/",
          "height": 34
        },
        "outputId": "6b070f98-2873-47e3-e55a-a23fad8b15f1"
      },
      "source": [
        "gender = ['male', 'female', 'unknown']\n",
        "gender_encode2 = [0 if g == 'male' else (1 if g == 'female' else 2)\n",
        "                  for g in gender]\n",
        "print(gender_encode2)"
      ],
      "execution_count": null,
      "outputs": [
        {
          "output_type": "stream",
          "text": [
            "[0, 1, 2]\n"
          ],
          "name": "stdout"
        }
      ]
    }
  ]
}