{
  "nbformat": 4,
  "nbformat_minor": 0,
  "metadata": {
    "colab": {
      "name": "py07_function.ipynb",
      "provenance": [],
      "collapsed_sections": [],
      "authorship_tag": "ABX9TyNkh2H0DMoPPrHuCbLSDS0r",
      "include_colab_link": true
    },
    "kernelspec": {
      "name": "python3",
      "display_name": "Python 3"
    }
  },
  "cells": [
    {
      "cell_type": "markdown",
      "metadata": {
        "id": "view-in-github",
        "colab_type": "text"
      },
      "source": [
        "<a href=\"https://colab.research.google.com/github/JakeOh/202007_iw_pyda_wkd/blob/master/py07_function.ipynb\" target=\"_parent\"><img src=\"https://colab.research.google.com/assets/colab-badge.svg\" alt=\"Open In Colab\"/></a>"
      ]
    },
    {
      "cell_type": "code",
      "metadata": {
        "id": "h3Y2WnD35Idi",
        "colab_type": "code",
        "colab": {}
      },
      "source": [
        "# 함수(function): 자주 사용되는 기능들을 작성한 코드 블록\n",
        "# 함수 호출(call, invoke): 함수를 사용하는 것."
      ],
      "execution_count": null,
      "outputs": []
    },
    {
      "cell_type": "code",
      "metadata": {
        "id": "UyvUk87c5mPY",
        "colab_type": "code",
        "colab": {}
      },
      "source": [
        "numbers = [1, 2, 3, 4, 5]"
      ],
      "execution_count": null,
      "outputs": []
    },
    {
      "cell_type": "code",
      "metadata": {
        "id": "IOuaPmCJ5t6O",
        "colab_type": "code",
        "colab": {
          "base_uri": "https://localhost:8080/",
          "height": 35
        },
        "outputId": "91205b36-6571-4592-fed9-44f9f7e9f1d4"
      },
      "source": [
        "print(numbers)  # print 함수 호출\n",
        "# argument: 함수를 호출할 때 함수에게 전달하는 값(데이터)"
      ],
      "execution_count": null,
      "outputs": [
        {
          "output_type": "stream",
          "text": [
            "[1, 2, 3, 4, 5]\n"
          ],
          "name": "stdout"
        }
      ]
    },
    {
      "cell_type": "code",
      "metadata": {
        "id": "Dgank3uu6W3Z",
        "colab_type": "code",
        "colab": {
          "base_uri": "https://localhost:8080/",
          "height": 35
        },
        "outputId": "07122ecd-4ae6-440c-ee63-d432b48e2a7c"
      },
      "source": [
        "num_of_items = len(numbers)\n",
        "# len 함수 호출\n",
        "# len 함수에게 numbers를 아규먼트로 전달\n",
        "# 반환값(return value): 함수가 기능을 수행한 후에 함수를 호출한 곳에 \n",
        "# 되돌려주는 값.\n",
        "print(num_of_items)"
      ],
      "execution_count": null,
      "outputs": [
        {
          "output_type": "stream",
          "text": [
            "5\n"
          ],
          "name": "stdout"
        }
      ]
    },
    {
      "cell_type": "code",
      "metadata": {
        "id": "Aq4HLc-F72Ro",
        "colab_type": "code",
        "colab": {
          "base_uri": "https://localhost:8080/",
          "height": 35
        },
        "outputId": "b40812ba-f5b9-4a61-ec3b-99e862aa8e07"
      },
      "source": [
        "sum_ = sum(numbers)\n",
        "print(sum_)\n",
        "# built-in function 이름과 같은 이름으로 변수를 만들면,\n",
        "# 함수를 사용할 수 없게 될 수 있으므로,\n",
        "# 변수 이름은 함수 이름과는 다르게 만들어 주는 것이 좋음."
      ],
      "execution_count": null,
      "outputs": [
        {
          "output_type": "stream",
          "text": [
            "15\n"
          ],
          "name": "stdout"
        }
      ]
    },
    {
      "cell_type": "code",
      "metadata": {
        "id": "FlRFVY6_8V_3",
        "colab_type": "code",
        "colab": {}
      },
      "source": [
        "# 함수 정의\n",
        "# def function_name(param1, ....):\n",
        "#   함수가 할 일들을 작성\n",
        "\n",
        "# parameter: 함수를 호출할 때 전달되는 argument를 저장하기 위해서\n",
        "# 함수 정의부에서 선언하는 변수.\n",
        "\n",
        "def add_two_numbers(x, y):\n",
        "    return x + y"
      ],
      "execution_count": null,
      "outputs": []
    },
    {
      "cell_type": "code",
      "metadata": {
        "id": "wfcWE78R-dpm",
        "colab_type": "code",
        "colab": {
          "base_uri": "https://localhost:8080/",
          "height": 35
        },
        "outputId": "84ad9deb-c8db-4fae-ff53-451b49b6698f"
      },
      "source": [
        "result = add_two_numbers(1, 2)\n",
        "print(result)"
      ],
      "execution_count": null,
      "outputs": [
        {
          "output_type": "stream",
          "text": [
            "3\n"
          ],
          "name": "stdout"
        }
      ]
    },
    {
      "cell_type": "code",
      "metadata": {
        "id": "SGL6bWHbAOBQ",
        "colab_type": "code",
        "colab": {}
      },
      "source": [
        "# 숫자들의 리스트를 argument로 전달받아서,\n",
        "# 리스트 안의 모든 숫자들의 합을 리턴하는 함수\n",
        "def sum_of_list(num_list):\n",
        "    sum_ = 0\n",
        "    for x in num_list:\n",
        "        sum_ += x\n",
        "    return sum_"
      ],
      "execution_count": null,
      "outputs": []
    },
    {
      "cell_type": "code",
      "metadata": {
        "id": "-4A358-DAyYs",
        "colab_type": "code",
        "colab": {
          "base_uri": "https://localhost:8080/",
          "height": 54
        },
        "outputId": "e9a87d55-029b-49a2-dca2-3410a2cb6a4e"
      },
      "source": [
        "sum_1_10 = sum_of_list([1, 2, 3, 4, 5, 6, 7, 8, 9, 10])\n",
        "print(sum_1_10)\n",
        "sum_ = sum_of_list([1, 3, 10, 9])\n",
        "print(sum_)"
      ],
      "execution_count": null,
      "outputs": [
        {
          "output_type": "stream",
          "text": [
            "55\n",
            "23\n"
          ],
          "name": "stdout"
        }
      ]
    },
    {
      "cell_type": "code",
      "metadata": {
        "id": "Ji4Ib1DVCLwv",
        "colab_type": "code",
        "colab": {}
      },
      "source": [
        "# 숫자들의 리스트를 argument로 전달받아서\n",
        "# 숫자들의 평균을 리턴하는 함수\n",
        "def mean_of_list(num_list):\n",
        "    sum_ = sum_of_list(num_list)  # 리스트의 원소들의 합\n",
        "    num_of_items = len(num_list)  # 리스트의 원소의 개수\n",
        "    mean = sum_ / num_of_items  # 평균 = 합 / 원소개수\n",
        "    return mean"
      ],
      "execution_count": null,
      "outputs": []
    },
    {
      "cell_type": "code",
      "metadata": {
        "id": "YI_r6GoPDRdG",
        "colab_type": "code",
        "colab": {
          "base_uri": "https://localhost:8080/",
          "height": 54
        },
        "outputId": "9335a63a-86ac-4946-9b8c-bade8c31a761"
      },
      "source": [
        "mean1 = mean_of_list([1, 2, 3, 4, 5])\n",
        "print(mean1)\n",
        "mean2 = mean_of_list([2, 10, 100])\n",
        "print(mean2)"
      ],
      "execution_count": null,
      "outputs": [
        {
          "output_type": "stream",
          "text": [
            "3.0\n",
            "37.333333333333336\n"
          ],
          "name": "stdout"
        }
      ]
    },
    {
      "cell_type": "code",
      "metadata": {
        "id": "xMDHFWSPT-HG",
        "colab_type": "code",
        "colab": {}
      },
      "source": [
        "# 숫자 2개를 argument로 전달받아서\n",
        "# 첫번째 숫자에서 두번째 숫자를 뺀 값을 리턴하는 함수\n",
        "def subtract(x, y):\n",
        "    return x - y"
      ],
      "execution_count": null,
      "outputs": []
    },
    {
      "cell_type": "code",
      "metadata": {
        "id": "4r30-kM_UTz0",
        "colab_type": "code",
        "colab": {
          "base_uri": "https://localhost:8080/",
          "height": 72
        },
        "outputId": "1666a53b-b78b-4fa2-dcf4-ccbb30a1130c"
      },
      "source": [
        "# subtract 함수를 호출할 때 argument를 전달하는 방법:\n",
        "# positional argument: 선언된 파라미터 순서대로(위치 그대로) argument를 전달.\n",
        "result = subtract(1, 2)  \n",
        "print(result)\n",
        "\n",
        "# keyword argument: param=값 형식으로, argument가 저장되는 파라미터를 명시해서 전달.\n",
        "result = subtract(x=2, y=1)  \n",
        "print(result)\n",
        "\n",
        "result = subtract(y=1, x=2)\n",
        "print(result)"
      ],
      "execution_count": 32,
      "outputs": [
        {
          "output_type": "stream",
          "text": [
            "-1\n",
            "1\n",
            "1\n"
          ],
          "name": "stdout"
        }
      ]
    },
    {
      "cell_type": "code",
      "metadata": {
        "id": "spMVdz4VVBrV",
        "colab_type": "code",
        "colab": {}
      },
      "source": [
        "# 함수를 정의할 때 파라미터의 기본값(default argument)을 설정할 수 있음.\n",
        "# 파라미터의 기본값은 함수 호출 시 argument가 없을 때 사용됨.\n",
        "def multiply(x, y=1):\n",
        "    return x * y"
      ],
      "execution_count": 36,
      "outputs": []
    },
    {
      "cell_type": "code",
      "metadata": {
        "id": "qFoV6kHVXGyN",
        "colab_type": "code",
        "colab": {
          "base_uri": "https://localhost:8080/",
          "height": 54
        },
        "outputId": "fad99e34-85b2-48c9-ef31-a77de680ede0"
      },
      "source": [
        "result = multiply(3, 2)  # positional argument\n",
        "print(result)\n",
        "\n",
        "result = multiply(3)\n",
        "print(result)"
      ],
      "execution_count": 39,
      "outputs": [
        {
          "output_type": "stream",
          "text": [
            "6\n",
            "3\n"
          ],
          "name": "stdout"
        }
      ]
    },
    {
      "cell_type": "code",
      "metadata": {
        "id": "255zTu_sYsFo",
        "colab_type": "code",
        "colab": {}
      },
      "source": [
        "def divide(x=1, y=1):\n",
        "    return x / y"
      ],
      "execution_count": 42,
      "outputs": []
    },
    {
      "cell_type": "code",
      "metadata": {
        "id": "TS7wOhyFYxss",
        "colab_type": "code",
        "colab": {
          "base_uri": "https://localhost:8080/",
          "height": 35
        },
        "outputId": "0f18b170-b62c-4de2-a6b1-cbd12632a077"
      },
      "source": [
        "divide(10, 2)"
      ],
      "execution_count": 43,
      "outputs": [
        {
          "output_type": "execute_result",
          "data": {
            "text/plain": [
              "5.0"
            ]
          },
          "metadata": {
            "tags": []
          },
          "execution_count": 43
        }
      ]
    },
    {
      "cell_type": "code",
      "metadata": {
        "id": "3ycrn0m-Zl7e",
        "colab_type": "code",
        "colab": {
          "base_uri": "https://localhost:8080/",
          "height": 35
        },
        "outputId": "93b1cc9a-893d-43f3-b7da-0cbbce6ad8fe"
      },
      "source": [
        "divide(10)"
      ],
      "execution_count": 44,
      "outputs": [
        {
          "output_type": "execute_result",
          "data": {
            "text/plain": [
              "10.0"
            ]
          },
          "metadata": {
            "tags": []
          },
          "execution_count": 44
        }
      ]
    },
    {
      "cell_type": "code",
      "metadata": {
        "id": "NqGkxNPJZxOM",
        "colab_type": "code",
        "colab": {
          "base_uri": "https://localhost:8080/",
          "height": 35
        },
        "outputId": "cc55eab5-04eb-4634-873b-4dbee440782d"
      },
      "source": [
        "divide(x=10)"
      ],
      "execution_count": 45,
      "outputs": [
        {
          "output_type": "execute_result",
          "data": {
            "text/plain": [
              "10.0"
            ]
          },
          "metadata": {
            "tags": []
          },
          "execution_count": 45
        }
      ]
    },
    {
      "cell_type": "code",
      "metadata": {
        "id": "nfgbnqJlZ4mk",
        "colab_type": "code",
        "colab": {
          "base_uri": "https://localhost:8080/",
          "height": 35
        },
        "outputId": "d70181ce-43a1-4e42-a487-84268c8cbeca"
      },
      "source": [
        "divide(y=10)"
      ],
      "execution_count": 46,
      "outputs": [
        {
          "output_type": "execute_result",
          "data": {
            "text/plain": [
              "0.1"
            ]
          },
          "metadata": {
            "tags": []
          },
          "execution_count": 46
        }
      ]
    },
    {
      "cell_type": "code",
      "metadata": {
        "id": "dl59m8LhaFeL",
        "colab_type": "code",
        "colab": {
          "base_uri": "https://localhost:8080/",
          "height": 35
        },
        "outputId": "c92a8790-3dde-4926-847b-6dbf6eaa176a"
      },
      "source": [
        "divide()"
      ],
      "execution_count": 47,
      "outputs": [
        {
          "output_type": "execute_result",
          "data": {
            "text/plain": [
              "1.0"
            ]
          },
          "metadata": {
            "tags": []
          },
          "execution_count": 47
        }
      ]
    }
  ]
}