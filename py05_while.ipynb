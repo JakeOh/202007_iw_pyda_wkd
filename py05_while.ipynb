{
  "nbformat": 4,
  "nbformat_minor": 0,
  "metadata": {
    "colab": {
      "name": "py05_while.ipynb",
      "provenance": [],
      "authorship_tag": "ABX9TyOC6ZPobmzf2SDS566YyUu5",
      "include_colab_link": true
    },
    "kernelspec": {
      "name": "python3",
      "display_name": "Python 3"
    }
  },
  "cells": [
    {
      "cell_type": "markdown",
      "metadata": {
        "id": "view-in-github",
        "colab_type": "text"
      },
      "source": [
        "<a href=\"https://colab.research.google.com/github/JakeOh/202007_iw_pyda_wkd/blob/master/py05_while.ipynb\" target=\"_parent\"><img src=\"https://colab.research.google.com/assets/colab-badge.svg\" alt=\"Open In Colab\"/></a>"
      ]
    },
    {
      "cell_type": "markdown",
      "metadata": {
        "id": "Wr7l1o2ChsJc",
        "colab_type": "text"
      },
      "source": [
        "while 반복문\n",
        "<pre>\n",
        "while 조건식:\n",
        "    조건식이 참일 때 실행할 문장들\n",
        "    [조건식을 변경할 수 있는 문장]\n",
        "</pre>"
      ]
    },
    {
      "cell_type": "code",
      "metadata": {
        "id": "yHIzMy0ahdtS",
        "colab_type": "code",
        "colab": {
          "base_uri": "https://localhost:8080/",
          "height": 109
        },
        "outputId": "7ca22991-b33a-41ee-b86b-510565f08cd0"
      },
      "source": [
        "n = 1\n",
        "while n <= 5:  # n이 5이하인 경우에\n",
        "    print(n)  # n을 출력함.\n",
        "    n += 1  # n의 값을 1 증가시킴. n = n + 1"
      ],
      "execution_count": 2,
      "outputs": [
        {
          "output_type": "stream",
          "text": [
            "1\n",
            "2\n",
            "3\n",
            "4\n",
            "5\n"
          ],
          "name": "stdout"
        }
      ]
    },
    {
      "cell_type": "code",
      "metadata": {
        "id": "7xVfzEoUjz17",
        "colab_type": "code",
        "colab": {
          "base_uri": "https://localhost:8080/",
          "height": 201
        },
        "outputId": "318c07b5-c67e-427e-eddc-ae9028636e00"
      },
      "source": [
        "# 1 + 2 + 3 + ... + 9 + 10 = 55\n",
        "sum_ = 0\n",
        "for n in range(1, 11):\n",
        "    sum_ += n\n",
        "    print('sum =', sum_)"
      ],
      "execution_count": 3,
      "outputs": [
        {
          "output_type": "stream",
          "text": [
            "sum = 1\n",
            "sum = 3\n",
            "sum = 6\n",
            "sum = 10\n",
            "sum = 15\n",
            "sum = 21\n",
            "sum = 28\n",
            "sum = 36\n",
            "sum = 45\n",
            "sum = 55\n"
          ],
          "name": "stdout"
        }
      ]
    },
    {
      "cell_type": "code",
      "metadata": {
        "id": "Myd9PrUmk6BB",
        "colab_type": "code",
        "colab": {
          "base_uri": "https://localhost:8080/",
          "height": 201
        },
        "outputId": "6d17233a-90d1-49db-be26-60a179f32c3d"
      },
      "source": [
        "sum_ = 0\n",
        "n = 1\n",
        "while n <= 10:\n",
        "    sum_ += n\n",
        "    print('sum =', sum_)\n",
        "    n += 1"
      ],
      "execution_count": 4,
      "outputs": [
        {
          "output_type": "stream",
          "text": [
            "sum = 1\n",
            "sum = 3\n",
            "sum = 6\n",
            "sum = 10\n",
            "sum = 15\n",
            "sum = 21\n",
            "sum = 28\n",
            "sum = 36\n",
            "sum = 45\n",
            "sum = 55\n"
          ],
          "name": "stdout"
        }
      ]
    },
    {
      "cell_type": "code",
      "metadata": {
        "id": "0yFVg4qGmFRx",
        "colab_type": "code",
        "colab": {
          "base_uri": "https://localhost:8080/",
          "height": 91
        },
        "outputId": "072669f0-c81b-4f72-cb92-26088b1eb6cf"
      },
      "source": [
        "n = 1\n",
        "while True:\n",
        "    print(n)\n",
        "    n += 1\n",
        "    if n == 5:\n",
        "        break"
      ],
      "execution_count": 5,
      "outputs": [
        {
          "output_type": "stream",
          "text": [
            "1\n",
            "2\n",
            "3\n",
            "4\n"
          ],
          "name": "stdout"
        }
      ]
    }
  ]
}