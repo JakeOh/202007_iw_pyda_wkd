{
  "nbformat": 4,
  "nbformat_minor": 0,
  "metadata": {
    "colab": {
      "name": "py02_variable.ipynb",
      "provenance": [],
      "collapsed_sections": [],
      "authorship_tag": "ABX9TyNK5qw/G5ACK+Ujv3vCMlUC",
      "include_colab_link": true
    },
    "kernelspec": {
      "name": "python3",
      "display_name": "Python 3"
    }
  },
  "cells": [
    {
      "cell_type": "markdown",
      "metadata": {
        "id": "view-in-github",
        "colab_type": "text"
      },
      "source": [
        "<a href=\"https://colab.research.google.com/github/JakeOh/202007_iw_pyda_wkd/blob/master/py02_variable.ipynb\" target=\"_parent\"><img src=\"https://colab.research.google.com/assets/colab-badge.svg\" alt=\"Open In Colab\"/></a>"
      ]
    },
    {
      "cell_type": "markdown",
      "metadata": {
        "id": "2YZDwe0uh26D",
        "colab_type": "text"
      },
      "source": [
        "# 변수(Variable)"
      ]
    },
    {
      "cell_type": "code",
      "metadata": {
        "id": "hK5seq8VhbpJ",
        "colab_type": "code",
        "colab": {
          "base_uri": "https://localhost:8080/",
          "height": 51
        },
        "outputId": "85a6416a-06b9-4095-bb7e-8d36b6da03c1"
      },
      "source": [
        "# 주석(comment): 코드 설명. 실행되지 않는 문장.\n",
        "# 변수(variable): 데이터(자료)를 저장하는 메모리 공간.\n",
        "# 데이터(자료): 숫자, 문자열, 논리값(True/False), ...\n",
        "\n",
        "x = 100  # 변수 x에 숫자 타입 값 100을 저장\n",
        "print(x)  # 변수 x를 화면에 출력\n",
        "print(x + 10)"
      ],
      "execution_count": 4,
      "outputs": [
        {
          "output_type": "stream",
          "text": [
            "100\n",
            "110\n"
          ],
          "name": "stdout"
        }
      ]
    },
    {
      "cell_type": "code",
      "metadata": {
        "id": "Ciq4RifQniPJ",
        "colab_type": "code",
        "colab": {
          "base_uri": "https://localhost:8080/",
          "height": 34
        },
        "outputId": "53df2432-f104-48fe-e37c-bf44847ca317"
      },
      "source": [
        "# 문자열(string): 하나 이상의 문자들로 이루어진 배열\n",
        "# 문자열은 작은따옴표('') 또는 큰따옴표(\"\")로 감싸줌.\n",
        "name = '오정훈'\n",
        "print(name)"
      ],
      "execution_count": 7,
      "outputs": [
        {
          "output_type": "stream",
          "text": [
            "오정훈\n"
          ],
          "name": "stdout"
        }
      ]
    },
    {
      "cell_type": "code",
      "metadata": {
        "id": "-g-yVegzoPJ3",
        "colab_type": "code",
        "colab": {
          "base_uri": "https://localhost:8080/",
          "height": 34
        },
        "outputId": "47afbff3-0822-446e-c652-f8b77789dde7"
      },
      "source": [
        "x = '100'\n",
        "type(x)  # x는 문자열(string)을 저장하고 있는 변수"
      ],
      "execution_count": 8,
      "outputs": [
        {
          "output_type": "execute_result",
          "data": {
            "text/plain": [
              "str"
            ]
          },
          "metadata": {
            "tags": []
          },
          "execution_count": 8
        }
      ]
    },
    {
      "cell_type": "code",
      "metadata": {
        "id": "9c6vSbfLoeHn",
        "colab_type": "code",
        "colab": {
          "base_uri": "https://localhost:8080/",
          "height": 34
        },
        "outputId": "7867c6e5-7ebf-47e4-9066-8a00730ac943"
      },
      "source": [
        "x = 100\n",
        "type(x)  # x는 정수(integer)를 저장하고 있는 변수"
      ],
      "execution_count": 9,
      "outputs": [
        {
          "output_type": "execute_result",
          "data": {
            "text/plain": [
              "int"
            ]
          },
          "metadata": {
            "tags": []
          },
          "execution_count": 9
        }
      ]
    },
    {
      "cell_type": "code",
      "metadata": {
        "id": "nEmkGOEwonLH",
        "colab_type": "code",
        "colab": {}
      },
      "source": [
        "# '100' + 10\n",
        "# 문자열과 숫자는 더하기 연산을 할 수 없음."
      ],
      "execution_count": 14,
      "outputs": []
    },
    {
      "cell_type": "code",
      "metadata": {
        "id": "BBboxgDspwpI",
        "colab_type": "code",
        "colab": {
          "base_uri": "https://localhost:8080/",
          "height": 51
        },
        "outputId": "236e5529-458b-4d8d-bfd6-629133822e0a"
      },
      "source": [
        "true_or_not = (100 < 99)\n",
        "print(true_or_not)\n",
        "type(true_or_not)  # 논릿값(boolean)"
      ],
      "execution_count": 17,
      "outputs": [
        {
          "output_type": "stream",
          "text": [
            "False\n"
          ],
          "name": "stdout"
        },
        {
          "output_type": "execute_result",
          "data": {
            "text/plain": [
              "bool"
            ]
          },
          "metadata": {
            "tags": []
          },
          "execution_count": 17
        }
      ]
    },
    {
      "cell_type": "markdown",
      "metadata": {
        "id": "AlINMaF_rKlU",
        "colab_type": "text"
      },
      "source": [
        "# 연산자(Operator)"
      ]
    },
    {
      "cell_type": "code",
      "metadata": {
        "id": "f3J32XierOms",
        "colab_type": "code",
        "colab": {
          "base_uri": "https://localhost:8080/",
          "height": 137
        },
        "outputId": "541101b7-e375-4443-bf9a-388587be3e8e"
      },
      "source": [
        "x = 123  # 변수 x에 숫자 123을 저장\n",
        "y = 100  # 변수 y에 숫자 100을 저장\n",
        "\n",
        "print('x + y =', x + y)\n",
        "print('x - y =', x - y)\n",
        "print('x * y =', x * y)\n",
        "print('x / y =', x / y)\n",
        "print('x // y =', x // y)  # 나눈 몫\n",
        "print('x % y =', x % y)  # 나눈 나머지\n",
        "print('y ** 2 =', y ** 2)  # n제곱"
      ],
      "execution_count": 25,
      "outputs": [
        {
          "output_type": "stream",
          "text": [
            "x + y = 223\n",
            "x - y = 23\n",
            "x * y = 12300\n",
            "x / y = 1.23\n",
            "x // y = 1\n",
            "x % y = 23\n",
            "y ** 2 = 10000\n"
          ],
          "name": "stdout"
        }
      ]
    },
    {
      "cell_type": "code",
      "metadata": {
        "id": "w17d405Ptt34",
        "colab_type": "code",
        "colab": {
          "base_uri": "https://localhost:8080/",
          "height": 51
        },
        "outputId": "b0b25175-d724-4cec-a27a-cd12c227caf6"
      },
      "source": [
        "# 문자열은 +와 * 연산이 가능:\n",
        "# 문자열 + 문자열: 두 개의 문자열을 이어붙임(concatenate)\n",
        "# 문자열 * 정수: 문자열을 정수만큼 반복\n",
        "s1 = 'hello'\n",
        "s2 = 'python'\n",
        "print(s1 + s2)\n",
        "print(s1 * 3)"
      ],
      "execution_count": 31,
      "outputs": [
        {
          "output_type": "stream",
          "text": [
            "hellopython\n",
            "hellohellohello\n"
          ],
          "name": "stdout"
        }
      ]
    },
    {
      "cell_type": "code",
      "metadata": {
        "id": "QCFUAFgTusLH",
        "colab_type": "code",
        "colab": {
          "base_uri": "https://localhost:8080/",
          "height": 51
        },
        "outputId": "25ac8baf-9703-477c-9319-6e1b0b9cce60"
      },
      "source": [
        "# 비교 연산자: >, >=, <, <=, == (equal to), != (not equal to)\n",
        "x = 100  # 변수 x에 정수 100을 저장\n",
        "y = 99   # 변수 y에 정수 99를 저장\n",
        "print(x == y)  # x와 y가 같은 지 비교\n",
        "print(x != y)  # x와 y가 다른 지 비교"
      ],
      "execution_count": 37,
      "outputs": [
        {
          "output_type": "stream",
          "text": [
            "False\n",
            "True\n"
          ],
          "name": "stdout"
        }
      ]
    },
    {
      "cell_type": "code",
      "metadata": {
        "id": "Y53AtK-ZvH9r",
        "colab_type": "code",
        "colab": {
          "base_uri": "https://localhost:8080/",
          "height": 69
        },
        "outputId": "f6e5085b-df11-46f3-8631-65c6c4118bc9"
      },
      "source": [
        "# 논리 연산자: and, or, not\n",
        "# A and B: A와 B 모두 True일 때만 True, 그 이외에는 False\n",
        "# A or B: A와 B 중 적어도 하나가 True일 때 True, 모두 False일 때 False\n",
        "# not A: A가 True이면 False로, A가 False이면 True로.\n",
        "\n",
        "x, y = 10, 7\n",
        "print((x > 5) and (y > 5))\n",
        "print((x > 8) and (y > 8))\n",
        "print((x > 8) or (y > 8))"
      ],
      "execution_count": 41,
      "outputs": [
        {
          "output_type": "stream",
          "text": [
            "True\n",
            "False\n",
            "True\n"
          ],
          "name": "stdout"
        }
      ]
    }
  ]
}