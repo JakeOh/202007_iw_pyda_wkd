{
  "nbformat": 4,
  "nbformat_minor": 0,
  "metadata": {
    "colab": {
      "name": "py10_numpy.ipynb",
      "provenance": [],
      "collapsed_sections": [],
      "authorship_tag": "ABX9TyNowkDhuEVf/4s1TFbIQiwg",
      "include_colab_link": true
    },
    "kernelspec": {
      "name": "python3",
      "display_name": "Python 3"
    }
  },
  "cells": [
    {
      "cell_type": "markdown",
      "metadata": {
        "id": "view-in-github",
        "colab_type": "text"
      },
      "source": [
        "<a href=\"https://colab.research.google.com/github/JakeOh/202007_iw_pyda_wkd/blob/master/py10_numpy.ipynb\" target=\"_parent\"><img src=\"https://colab.research.google.com/assets/colab-badge.svg\" alt=\"Open In Colab\"/></a>"
      ]
    },
    {
      "cell_type": "code",
      "metadata": {
        "id": "phekCb0Okzz3",
        "colab_type": "code",
        "colab": {
          "base_uri": "https://localhost:8080/",
          "height": 35
        },
        "outputId": "735e6109-6989-40b7-f8c2-c06b0bf5a98b"
      },
      "source": [
        "import numpy as np\n",
        "\n",
        "np.__version__"
      ],
      "execution_count": 2,
      "outputs": [
        {
          "output_type": "execute_result",
          "data": {
            "application/vnd.google.colaboratory.intrinsic+json": {
              "type": "string"
            },
            "text/plain": [
              "'1.18.5'"
            ]
          },
          "metadata": {
            "tags": []
          },
          "execution_count": 2
        }
      ]
    },
    {
      "cell_type": "code",
      "metadata": {
        "id": "uCW0zAnTlBSX",
        "colab_type": "code",
        "colab": {
          "base_uri": "https://localhost:8080/",
          "height": 54
        },
        "outputId": "d1fa24bf-b8a5-414c-f6eb-527917fb4156"
      },
      "source": [
        "# 표준 정규분포를 따르는 난수를 이용해서 원소 10개인 1차원 array를 생성\n",
        "array = np.random.randn(10)\n",
        "array"
      ],
      "execution_count": 3,
      "outputs": [
        {
          "output_type": "execute_result",
          "data": {
            "text/plain": [
              "array([ 0.97631728, -0.1625761 ,  0.78136637,  0.05162783, -0.39983685,\n",
              "       -1.98620867,  1.53937579,  0.41716208, -1.51045779, -1.46797691])"
            ]
          },
          "metadata": {
            "tags": []
          },
          "execution_count": 3
        }
      ]
    },
    {
      "cell_type": "code",
      "metadata": {
        "id": "HKGfCz0xmnl2",
        "colab_type": "code",
        "colab": {
          "base_uri": "https://localhost:8080/",
          "height": 54
        },
        "outputId": "fd818da6-b596-4913-94ac-3930a873333e"
      },
      "source": [
        "array > 0"
      ],
      "execution_count": 4,
      "outputs": [
        {
          "output_type": "execute_result",
          "data": {
            "text/plain": [
              "array([ True, False,  True,  True, False, False,  True,  True, False,\n",
              "       False])"
            ]
          },
          "metadata": {
            "tags": []
          },
          "execution_count": 4
        }
      ]
    },
    {
      "cell_type": "code",
      "metadata": {
        "id": "_DQvt8TDnITk",
        "colab_type": "code",
        "colab": {
          "base_uri": "https://localhost:8080/",
          "height": 35
        },
        "outputId": "a0eead17-aa42-4213-e73d-95b8cd9cb6d2"
      },
      "source": [
        "# boolean indexing\n",
        "array[array > 0]"
      ],
      "execution_count": 5,
      "outputs": [
        {
          "output_type": "execute_result",
          "data": {
            "text/plain": [
              "array([0.97631728, 0.78136637, 0.05162783, 1.53937579, 0.41716208])"
            ]
          },
          "metadata": {
            "tags": []
          },
          "execution_count": 5
        }
      ]
    },
    {
      "cell_type": "code",
      "metadata": {
        "id": "7C-vHOXLoFvM",
        "colab_type": "code",
        "colab": {
          "base_uri": "https://localhost:8080/",
          "height": 72
        },
        "outputId": "7027f8f6-e8b1-48ce-8ae5-d0131b61c930"
      },
      "source": [
        "array = np.random.randn(3, 3)\n",
        "print(array)"
      ],
      "execution_count": 6,
      "outputs": [
        {
          "output_type": "stream",
          "text": [
            "[[-1.7517782  -0.47500687  0.70085234]\n",
            " [-0.56011265  0.19529202 -0.83967696]\n",
            " [-0.58138092 -0.20515755  0.11263852]]\n"
          ],
          "name": "stdout"
        }
      ]
    },
    {
      "cell_type": "code",
      "metadata": {
        "id": "d6O6fYlYoVK0",
        "colab_type": "code",
        "colab": {
          "base_uri": "https://localhost:8080/",
          "height": 35
        },
        "outputId": "ab94abe5-877b-4fef-f0f6-5ad93d658729"
      },
      "source": [
        "array[array > 0]"
      ],
      "execution_count": 7,
      "outputs": [
        {
          "output_type": "execute_result",
          "data": {
            "text/plain": [
              "array([0.70085234, 0.19529202, 0.11263852])"
            ]
          },
          "metadata": {
            "tags": []
          },
          "execution_count": 7
        }
      ]
    },
    {
      "cell_type": "code",
      "metadata": {
        "id": "bfB-336wom3d",
        "colab_type": "code",
        "colab": {
          "base_uri": "https://localhost:8080/",
          "height": 72
        },
        "outputId": "9376eab8-6bc7-47c2-dd31-d4868b6faa39"
      },
      "source": [
        "# boolean indexing을 사용할 때는 &, |, ~ 연산자를 사용할 수 있음.\n",
        "# 2개의 조건을 &, |로 연결할 때는 반드시 ()를 사용해야 함!\n",
        "array = np.random.randn(10)\n",
        "print(array)\n",
        "\n",
        "# array에서 -0.5 <= x <= 0.5 범위의 숫자들만 선택\n",
        "array[(array >= -0.5) & (array <= 0.5)]"
      ],
      "execution_count": 9,
      "outputs": [
        {
          "output_type": "stream",
          "text": [
            "[-0.30606646 -1.37213806 -0.07546732 -0.91705057 -1.55540226 -0.31187846\n",
            "  0.10335659  0.29539014 -0.81168356  0.94162945]\n"
          ],
          "name": "stdout"
        },
        {
          "output_type": "execute_result",
          "data": {
            "text/plain": [
              "array([-0.30606646, -0.07546732, -0.31187846,  0.10335659,  0.29539014])"
            ]
          },
          "metadata": {
            "tags": []
          },
          "execution_count": 9
        }
      ]
    },
    {
      "cell_type": "code",
      "metadata": {
        "id": "eneFV912qSoe",
        "colab_type": "code",
        "colab": {
          "base_uri": "https://localhost:8080/",
          "height": 91
        },
        "outputId": "77abb447-e085-47b9-aaca-b82b72b0367e"
      },
      "source": [
        "# broadcast\n",
        "a1 = np.array([[1, 1, 2],\n",
        "               [2, 2, 3],\n",
        "               [3, 3, 4]])\n",
        "a2 = np.array([1, 2, 3])\n",
        "print(a1)\n",
        "print(a2)"
      ],
      "execution_count": 11,
      "outputs": [
        {
          "output_type": "stream",
          "text": [
            "[[1 1 2]\n",
            " [2 2 3]\n",
            " [3 3 4]]\n",
            "[1 2 3]\n"
          ],
          "name": "stdout"
        }
      ]
    },
    {
      "cell_type": "code",
      "metadata": {
        "id": "HgkaKlr2rHz-",
        "colab_type": "code",
        "colab": {
          "base_uri": "https://localhost:8080/",
          "height": 72
        },
        "outputId": "f8c0f785-84cb-4883-ced9-cb1df85b7c57"
      },
      "source": [
        "print(a1 + a2)"
      ],
      "execution_count": 12,
      "outputs": [
        {
          "output_type": "stream",
          "text": [
            "[[2 3 5]\n",
            " [3 4 6]\n",
            " [4 5 7]]\n"
          ],
          "name": "stdout"
        }
      ]
    }
  ]
}