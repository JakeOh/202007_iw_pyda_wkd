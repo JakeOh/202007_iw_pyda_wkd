{
  "nbformat": 4,
  "nbformat_minor": 0,
  "metadata": {
    "colab": {
      "name": "py09_numpy.ipynb",
      "provenance": [],
      "collapsed_sections": [],
      "authorship_tag": "ABX9TyMeDulD2Qvlqdsg7bo4Ash2",
      "include_colab_link": true
    },
    "kernelspec": {
      "name": "python3",
      "display_name": "Python 3"
    }
  },
  "cells": [
    {
      "cell_type": "markdown",
      "metadata": {
        "id": "view-in-github",
        "colab_type": "text"
      },
      "source": [
        "<a href=\"https://colab.research.google.com/github/JakeOh/202007_iw_pyda_wkd/blob/master/py09_numpy.ipynb\" target=\"_parent\"><img src=\"https://colab.research.google.com/assets/colab-badge.svg\" alt=\"Open In Colab\"/></a>"
      ]
    },
    {
      "cell_type": "markdown",
      "metadata": {
        "id": "xhWu4s9YpPZM",
        "colab_type": "text"
      },
      "source": [
        "NumPy: Numerical Python. 다차원 배열을 빠르게 계산할 수 있는 패키지.\n",
        "<br>\n",
        "<br>\n",
        "모듈(module): 확장자 py인 파이썬 파일. 함수를 정의. 클래스 정의. 변수 선언/초기화.\n",
        "<br>\n",
        "패키지(package): 모듈(py 파일)들의 꾸러미. 파일들을 저장하고 있는 디렉토리.\n"
      ]
    },
    {
      "cell_type": "code",
      "metadata": {
        "id": "7cXyIxNqpHAc",
        "colab_type": "code",
        "colab": {
          "base_uri": "https://localhost:8080/",
          "height": 35
        },
        "outputId": "cbadb467-0434-40aa-a5e4-7fcff9229f6f"
      },
      "source": [
        "import numpy as np\n",
        "\n",
        "print(np.__version__)"
      ],
      "execution_count": 1,
      "outputs": [
        {
          "output_type": "stream",
          "text": [
            "1.18.5\n"
          ],
          "name": "stdout"
        }
      ]
    },
    {
      "cell_type": "code",
      "metadata": {
        "id": "-sUL5TvmwD_0",
        "colab_type": "code",
        "colab": {
          "base_uri": "https://localhost:8080/",
          "height": 91
        },
        "outputId": "dd20b212-571c-453a-eb5a-44cd01d9a8e0"
      },
      "source": [
        "# Python 기본 타입 list 클래스와 NumPy ndarray 클래스의 차이점\n",
        "number_list = [1, 2, 3, 4, 5]  # list\n",
        "print(type(number_list))\n",
        "print(number_list)\n",
        "\n",
        "number_array = np.array([1, 2, 3, 4, 5])  # numpy.ndarray\n",
        "print(type(number_array))\n",
        "print(number_array)"
      ],
      "execution_count": 4,
      "outputs": [
        {
          "output_type": "stream",
          "text": [
            "<class 'list'>\n",
            "[1, 2, 3, 4, 5]\n",
            "<class 'numpy.ndarray'>\n",
            "[1 2 3 4 5]\n"
          ],
          "name": "stdout"
        }
      ]
    },
    {
      "cell_type": "code",
      "metadata": {
        "id": "l-_8w6xMxoBE",
        "colab_type": "code",
        "colab": {
          "base_uri": "https://localhost:8080/",
          "height": 35
        },
        "outputId": "ebd8fb86-9732-4890-c202-ca601bd799e0"
      },
      "source": [
        "list_2d = [[1, 2, 3],\n",
        "           [4, 5, 6]]\n",
        "print(list_2d)"
      ],
      "execution_count": 5,
      "outputs": [
        {
          "output_type": "stream",
          "text": [
            "[[1, 2, 3], [4, 5, 6]]\n"
          ],
          "name": "stdout"
        }
      ]
    },
    {
      "cell_type": "code",
      "metadata": {
        "id": "JE_ttCFcx6ui",
        "colab_type": "code",
        "colab": {
          "base_uri": "https://localhost:8080/",
          "height": 54
        },
        "outputId": "26293aa0-cc92-4edf-a04d-1bc28e086099"
      },
      "source": [
        "array_2d = np.array(list_2d)\n",
        "print(array_2d)"
      ],
      "execution_count": 7,
      "outputs": [
        {
          "output_type": "stream",
          "text": [
            "[[1 2 3]\n",
            " [4 5 6]]\n"
          ],
          "name": "stdout"
        }
      ]
    },
    {
      "cell_type": "code",
      "metadata": {
        "id": "ei0dEGdXyRU6",
        "colab_type": "code",
        "colab": {
          "base_uri": "https://localhost:8080/",
          "height": 54
        },
        "outputId": "b5c9817c-79bc-4748-cddb-e6571d24f05f"
      },
      "source": [
        "# list는 + 연산과 * 연산만 가능.\n",
        "# list는 -, /, //, %, ** 등의 연산은 제공하지 않음.\n",
        "l1 = [1, 2, 3]\n",
        "l2 = [4, 5, 6]\n",
        "print(l1 + l2)  # list + 연산: concatenate\n",
        "print(l1 * 3)  # list * 연산: 원소들을 반복해서 리스트의 원소 개수를 늘림."
      ],
      "execution_count": 9,
      "outputs": [
        {
          "output_type": "stream",
          "text": [
            "[1, 2, 3, 4, 5, 6]\n",
            "[1, 2, 3, 1, 2, 3, 1, 2, 3]\n"
          ],
          "name": "stdout"
        }
      ]
    },
    {
      "cell_type": "code",
      "metadata": {
        "id": "TPega6yQzLL7",
        "colab_type": "code",
        "colab": {
          "base_uri": "https://localhost:8080/",
          "height": 72
        },
        "outputId": "38e45faf-5abf-41ab-de16-41c273a3228c"
      },
      "source": [
        "# numpy.ndarray는 모든 산술 연산(+, -, *, /, //, %, **) 가능.\n",
        "# 같은 위치의 원소들끼리 산술 연산을 수행(element-wise operation).\n",
        "a1 = np.array([1, 2, 3])\n",
        "a2 = np.array([4, 5, 6])\n",
        "print(a1 + a2)\n",
        "print(a1 * a2)\n",
        "print(a1 ** 3)"
      ],
      "execution_count": 13,
      "outputs": [
        {
          "output_type": "stream",
          "text": [
            "[5 7 9]\n",
            "[ 4 10 18]\n",
            "[ 1  8 27]\n"
          ],
          "name": "stdout"
        }
      ]
    },
    {
      "cell_type": "code",
      "metadata": {
        "id": "FXoKjV7c00kz",
        "colab_type": "code",
        "colab": {
          "base_uri": "https://localhost:8080/",
          "height": 91
        },
        "outputId": "c5fe4710-c240-4351-f358-8d5e84fe5bfe"
      },
      "source": [
        "# list와 numpy.ndarray는 인덱스를 사용\n",
        "print(l1[0])  # 1-d list\n",
        "print(a1[0])  # 1-d array\n",
        "\n",
        "print(list_2d[0][0])  # 2-d list\n",
        "print(array_2d[0, 0])  # 2-d array"
      ],
      "execution_count": 16,
      "outputs": [
        {
          "output_type": "stream",
          "text": [
            "1\n",
            "1\n",
            "1\n",
            "1\n"
          ],
          "name": "stdout"
        }
      ]
    },
    {
      "cell_type": "code",
      "metadata": {
        "id": "Y9ORgldo2Hhb",
        "colab_type": "code",
        "colab": {
          "base_uri": "https://localhost:8080/",
          "height": 109
        },
        "outputId": "a5b70dd1-48d1-4893-f814-c389f10267dc"
      },
      "source": [
        "# numpy.ndarray를 생성하는 함수들\n",
        "arr1 = np.arange(1, 11, 1)\n",
        "print(arr1)\n",
        "# ndarray의 속성들(attributes)\n",
        "print(arr1.shape)  # 각 축(axis)의 차원(원소, dimensionality) 개수\n",
        "print(arr1.size)  # 원소의 개수\n",
        "print(arr1.ndim)  # 차원 개수\n",
        "print(arr1.dtype)  # 원소들의 데이터 타입"
      ],
      "execution_count": 21,
      "outputs": [
        {
          "output_type": "stream",
          "text": [
            "[ 1  2  3  4  5  6  7  8  9 10]\n",
            "(10,)\n",
            "10\n",
            "1\n",
            "int64\n"
          ],
          "name": "stdout"
        }
      ]
    },
    {
      "cell_type": "code",
      "metadata": {
        "id": "hY4RTO8e9O3z",
        "colab_type": "code",
        "colab": {
          "base_uri": "https://localhost:8080/",
          "height": 109
        },
        "outputId": "a46b52da-6c61-4837-8b4e-c2791cb79029"
      },
      "source": [
        "arr2 = np.ones(shape=5, dtype=np.int32)\n",
        "print(arr2)\n",
        "print(arr2.dtype)\n",
        "print('ndim:', arr2.ndim)\n",
        "print('shape:', arr2.shape)\n",
        "print('size:', arr2.size)"
      ],
      "execution_count": 27,
      "outputs": [
        {
          "output_type": "stream",
          "text": [
            "[1 1 1 1 1]\n",
            "int32\n",
            "ndim: 1\n",
            "shape: (5,)\n",
            "size: 5\n"
          ],
          "name": "stdout"
        }
      ]
    },
    {
      "cell_type": "code",
      "metadata": {
        "id": "liZ_xvIl_HO5",
        "colab_type": "code",
        "colab": {
          "base_uri": "https://localhost:8080/",
          "height": 127
        },
        "outputId": "fc49439d-88f6-4b3e-91c6-8ef7e5d9081b"
      },
      "source": [
        "arr3 = np.ones(shape=(2, 3))\n",
        "print(arr3)\n",
        "print('dtype:', arr3.dtype)\n",
        "print('ndim:', arr3.ndim)\n",
        "print('shape:', arr3.shape)\n",
        "print('size:', arr3.size)"
      ],
      "execution_count": 32,
      "outputs": [
        {
          "output_type": "stream",
          "text": [
            "[[1. 1. 1.]\n",
            " [1. 1. 1.]]\n",
            "dtype: float64\n",
            "ndim: 2\n",
            "shape: (2, 3)\n",
            "size: 6\n"
          ],
          "name": "stdout"
        }
      ]
    },
    {
      "cell_type": "code",
      "metadata": {
        "id": "H2pIUjFlAz7I",
        "colab_type": "code",
        "colab": {
          "base_uri": "https://localhost:8080/",
          "height": 72
        },
        "outputId": "c72a243e-de5a-4007-9e30-cc25b95d4783"
      },
      "source": [
        "arr4 = np.zeros(shape=(3, 3))\n",
        "print(arr4)"
      ],
      "execution_count": 33,
      "outputs": [
        {
          "output_type": "stream",
          "text": [
            "[[0. 0. 0.]\n",
            " [0. 0. 0.]\n",
            " [0. 0. 0.]]\n"
          ],
          "name": "stdout"
        }
      ]
    },
    {
      "cell_type": "code",
      "metadata": {
        "id": "oqIaR8jFBdZ4",
        "colab_type": "code",
        "colab": {
          "base_uri": "https://localhost:8080/",
          "height": 72
        },
        "outputId": "08876337-d830-4440-a460-a653441d46a7"
      },
      "source": [
        "arr5 = np.eye(N=3)\n",
        "print(arr5)"
      ],
      "execution_count": 34,
      "outputs": [
        {
          "output_type": "stream",
          "text": [
            "[[1. 0. 0.]\n",
            " [0. 1. 0.]\n",
            " [0. 0. 1.]]\n"
          ],
          "name": "stdout"
        }
      ]
    },
    {
      "cell_type": "code",
      "metadata": {
        "id": "0f-xAvQZCSQw",
        "colab_type": "code",
        "colab": {
          "base_uri": "https://localhost:8080/",
          "height": 72
        },
        "outputId": "e81a5e4c-71e1-4fed-be5f-f0b017c6f1c9"
      },
      "source": [
        "arr6 = np.random.rand(5)  # 0 <= r < 1 범위의 난수로 array 생성\n",
        "print(arr6)\n",
        "\n",
        "arr7 = np.random.rand(2, 3)\n",
        "print(arr7)"
      ],
      "execution_count": 38,
      "outputs": [
        {
          "output_type": "stream",
          "text": [
            "[0.51811247 0.17283925 0.95997655 0.75554953 0.80810562]\n",
            "[[0.9275398  0.221477   0.96670632]\n",
            " [0.18149651 0.34826149 0.87888497]]\n"
          ],
          "name": "stdout"
        }
      ]
    },
    {
      "cell_type": "code",
      "metadata": {
        "id": "oj8Q1b1jDb-r",
        "colab_type": "code",
        "colab": {
          "base_uri": "https://localhost:8080/",
          "height": 54
        },
        "outputId": "01f275d4-50ec-4546-c76b-c8bb9634cd3e"
      },
      "source": [
        "# 평균이 0이고, 표준편차가 1인 표준 정규분포(normal distribution)를 따르는 \n",
        "# 난수를 사용해서 array를 생성.\n",
        "arr8 = np.random.randn(2, 3)\n",
        "print(arr8)"
      ],
      "execution_count": 49,
      "outputs": [
        {
          "output_type": "stream",
          "text": [
            "[[ 0.92604541  0.87300393 -1.86856826]\n",
            " [ 0.9386328   1.5225841  -0.32881755]]\n"
          ],
          "name": "stdout"
        }
      ]
    },
    {
      "cell_type": "code",
      "metadata": {
        "id": "XeWcFOyRFjCq",
        "colab_type": "code",
        "colab": {
          "base_uri": "https://localhost:8080/",
          "height": 91
        },
        "outputId": "c27bc3cd-9e4e-42c1-f8cc-e00e7706361c"
      },
      "source": [
        "arr9 = np.random.randint(0, 10, size=10)\n",
        "print(arr9)\n",
        "\n",
        "arr10 = np.random.randint(0, 10, size=(3, 4))\n",
        "print(arr10)"
      ],
      "execution_count": 59,
      "outputs": [
        {
          "output_type": "stream",
          "text": [
            "[7 7 9 5 8 8 7 2 0 8]\n",
            "[[4 6 3 4]\n",
            " [5 8 0 6]\n",
            " [2 4 7 5]]\n"
          ],
          "name": "stdout"
        }
      ]
    },
    {
      "cell_type": "code",
      "metadata": {
        "id": "_wMbVvRuHUyy",
        "colab_type": "code",
        "colab": {
          "base_uri": "https://localhost:8080/",
          "height": 91
        },
        "outputId": "03698220-d0de-4e1a-c368-ebaf19e18f56"
      },
      "source": [
        "arr = np.arange(1, 13)\n",
        "print(arr)\n",
        "print(arr.reshape((3, 4)))"
      ],
      "execution_count": 64,
      "outputs": [
        {
          "output_type": "stream",
          "text": [
            "[ 1  2  3  4  5  6  7  8  9 10 11 12]\n",
            "[[ 1  2  3  4]\n",
            " [ 5  6  7  8]\n",
            " [ 9 10 11 12]]\n"
          ],
          "name": "stdout"
        }
      ]
    },
    {
      "cell_type": "code",
      "metadata": {
        "id": "cD5EsAJhIm4J",
        "colab_type": "code",
        "colab": {
          "base_uri": "https://localhost:8080/",
          "height": 91
        },
        "outputId": "3fdeabf1-0466-4e38-95e7-4dd0aca7a0b4"
      },
      "source": [
        "arr = np.arange(1, 13).reshape((4, 3))\n",
        "print(arr)"
      ],
      "execution_count": 65,
      "outputs": [
        {
          "output_type": "stream",
          "text": [
            "[[ 1  2  3]\n",
            " [ 4  5  6]\n",
            " [ 7  8  9]\n",
            " [10 11 12]]\n"
          ],
          "name": "stdout"
        }
      ]
    }
  ]
}