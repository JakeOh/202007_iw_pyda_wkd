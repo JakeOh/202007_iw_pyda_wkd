{
  "nbformat": 4,
  "nbformat_minor": 0,
  "metadata": {
    "colab": {
      "name": "py06_dict.ipynb",
      "provenance": [],
      "collapsed_sections": [],
      "authorship_tag": "ABX9TyM0cC/DAacPC/OGW514vbQz",
      "include_colab_link": true
    },
    "kernelspec": {
      "name": "python3",
      "display_name": "Python 3"
    }
  },
  "cells": [
    {
      "cell_type": "markdown",
      "metadata": {
        "id": "view-in-github",
        "colab_type": "text"
      },
      "source": [
        "<a href=\"https://colab.research.google.com/github/JakeOh/202007_iw_pyda_wkd/blob/master/py06_dict.ipynb\" target=\"_parent\"><img src=\"https://colab.research.google.com/assets/colab-badge.svg\" alt=\"Open In Colab\"/></a>"
      ]
    },
    {
      "cell_type": "markdown",
      "metadata": {
        "id": "TX_WKkDJp6fT",
        "colab_type": "text"
      },
      "source": [
        "dict: key-value의 쌍으로 이루어진 데이터를 저장하는 자료 타입."
      ]
    },
    {
      "cell_type": "code",
      "metadata": {
        "id": "T9rl6HYzp1Rn",
        "colab_type": "code",
        "colab": {
          "base_uri": "https://localhost:8080/",
          "height": 54
        },
        "outputId": "94ead5eb-452c-48c7-d901-a4be5380a49d"
      },
      "source": [
        "students = {1: 'Abc',\n",
        "            2: 'Def',\n",
        "            10: '홍길동',\n",
        "            5: '김길동'}\n",
        "\n",
        "print(type(students))\n",
        "print(students)"
      ],
      "execution_count": null,
      "outputs": [
        {
          "output_type": "stream",
          "text": [
            "<class 'dict'>\n",
            "{1: 'Abc', 2: 'Def', 10: '홍길동', 5: '김길동'}\n"
          ],
          "name": "stdout"
        }
      ]
    },
    {
      "cell_type": "code",
      "metadata": {
        "id": "kpiq1TN2rFaG",
        "colab_type": "code",
        "colab": {
          "base_uri": "https://localhost:8080/",
          "height": 35
        },
        "outputId": "8220efee-7232-4c76-f5f3-9fa2ccdfad40"
      },
      "source": [
        "students.keys()  # dict의 key들만 선택"
      ],
      "execution_count": null,
      "outputs": [
        {
          "output_type": "execute_result",
          "data": {
            "text/plain": [
              "dict_keys([1, 2, 10, 5])"
            ]
          },
          "metadata": {
            "tags": []
          },
          "execution_count": 3
        }
      ]
    },
    {
      "cell_type": "code",
      "metadata": {
        "id": "GRrZO-OjrZxR",
        "colab_type": "code",
        "colab": {
          "base_uri": "https://localhost:8080/",
          "height": 35
        },
        "outputId": "9672cd67-30ac-4120-d95d-08e91d2f8f61"
      },
      "source": [
        "students.values()  # dict의 value들만 선택"
      ],
      "execution_count": null,
      "outputs": [
        {
          "output_type": "execute_result",
          "data": {
            "text/plain": [
              "dict_values(['Abc', 'Def', '홍길동', '김길동'])"
            ]
          },
          "metadata": {
            "tags": []
          },
          "execution_count": 4
        }
      ]
    },
    {
      "cell_type": "code",
      "metadata": {
        "id": "IPUMwGP_rpuI",
        "colab_type": "code",
        "colab": {
          "base_uri": "https://localhost:8080/",
          "height": 35
        },
        "outputId": "779d31b2-09ee-4820-ae32-6da9dec3451d"
      },
      "source": [
        "students.items()  # (key, value) 튜플들의 리스트"
      ],
      "execution_count": null,
      "outputs": [
        {
          "output_type": "execute_result",
          "data": {
            "text/plain": [
              "dict_items([(1, 'Abc'), (2, 'Def'), (10, '홍길동'), (5, '김길동')])"
            ]
          },
          "metadata": {
            "tags": []
          },
          "execution_count": 5
        }
      ]
    },
    {
      "cell_type": "code",
      "metadata": {
        "id": "hLPLPm3JsGns",
        "colab_type": "code",
        "colab": {
          "base_uri": "https://localhost:8080/",
          "height": 35
        },
        "outputId": "ee885292-32ec-404a-8890-62acdf4a03a5"
      },
      "source": [
        "# dict의 원소의 값을 읽을 때\n",
        "students[1]  # dict[key]"
      ],
      "execution_count": null,
      "outputs": [
        {
          "output_type": "execute_result",
          "data": {
            "application/vnd.google.colaboratory.intrinsic": {
              "type": "string"
            },
            "text/plain": [
              "'Abc'"
            ]
          },
          "metadata": {
            "tags": []
          },
          "execution_count": 6
        }
      ]
    },
    {
      "cell_type": "code",
      "metadata": {
        "id": "JWI9ELntsWEA",
        "colab_type": "code",
        "colab": {
          "base_uri": "https://localhost:8080/",
          "height": 54
        },
        "outputId": "a8717842-1c77-401f-dcc5-fbc500e998a6"
      },
      "source": [
        "# dict의 원소의 값을 변경하고 싶을 때\n",
        "print('변경 전:', students[2])\n",
        "students[2] = 'Python'  # dict[key] = 값\n",
        "print('변경 후:', students[2])"
      ],
      "execution_count": null,
      "outputs": [
        {
          "output_type": "stream",
          "text": [
            "변경 전: Def\n",
            "변경 후: Python\n"
          ],
          "name": "stdout"
        }
      ]
    },
    {
      "cell_type": "code",
      "metadata": {
        "id": "yXYbPx27tFxI",
        "colab_type": "code",
        "colab": {
          "base_uri": "https://localhost:8080/",
          "height": 35
        },
        "outputId": "755f2150-3803-4e1f-94e5-611528b799cc"
      },
      "source": [
        "# dict의 새로운 key-value를 추가: dict[key] = value\n",
        "students[100] = 'Wes'\n",
        "print(students)"
      ],
      "execution_count": null,
      "outputs": [
        {
          "output_type": "stream",
          "text": [
            "{1: 'Abc', 2: 'Python', 10: '홍길동', 5: '김길동', 100: 'Wes'}\n"
          ],
          "name": "stdout"
        }
      ]
    },
    {
      "cell_type": "code",
      "metadata": {
        "id": "Y4TLT3cytijQ",
        "colab_type": "code",
        "colab": {
          "base_uri": "https://localhost:8080/",
          "height": 35
        },
        "outputId": "8daaad43-2889-4daa-bf7d-f412307f8c72"
      },
      "source": [
        "students.pop(5)  # dict.pop(key): key-value 데이터를 dict에서 삭제\n",
        "print(students)"
      ],
      "execution_count": null,
      "outputs": [
        {
          "output_type": "stream",
          "text": [
            "{1: 'Abc', 2: 'Python', 10: '홍길동', 100: 'Wes'}\n"
          ],
          "name": "stdout"
        }
      ]
    },
    {
      "cell_type": "code",
      "metadata": {
        "id": "2o8fJIIBuIjx",
        "colab_type": "code",
        "colab": {
          "base_uri": "https://localhost:8080/",
          "height": 91
        },
        "outputId": "dc6e3635-1f21-4730-f3d6-119b6568b9c0"
      },
      "source": [
        "# for-in 구문에서 dict 타입의 변수를 사용하면, key들에 대해서 반복\n",
        "for k in students:  # for k in students.keys():\n",
        "    print(k, students[k])"
      ],
      "execution_count": null,
      "outputs": [
        {
          "output_type": "stream",
          "text": [
            "1 Abc\n",
            "2 Python\n",
            "10 홍길동\n",
            "100 Wes\n"
          ],
          "name": "stdout"
        }
      ]
    },
    {
      "cell_type": "code",
      "metadata": {
        "id": "FWxxlGH0vABJ",
        "colab_type": "code",
        "colab": {
          "base_uri": "https://localhost:8080/",
          "height": 91
        },
        "outputId": "2679243a-7ef5-46ca-8b14-8a3003dca1bd"
      },
      "source": [
        "for v in students.values():\n",
        "    print(v)"
      ],
      "execution_count": null,
      "outputs": [
        {
          "output_type": "stream",
          "text": [
            "Abc\n",
            "Python\n",
            "홍길동\n",
            "Wes\n"
          ],
          "name": "stdout"
        }
      ]
    },
    {
      "cell_type": "code",
      "metadata": {
        "id": "Ero4aLsGvRNI",
        "colab_type": "code",
        "colab": {
          "base_uri": "https://localhost:8080/",
          "height": 109
        },
        "outputId": "c1f8cb22-782c-400b-ceb1-fb4b9878734b"
      },
      "source": [
        "print(students.items())\n",
        "for k, v in students.items():\n",
        "    print(k, v)"
      ],
      "execution_count": null,
      "outputs": [
        {
          "output_type": "stream",
          "text": [
            "dict_items([(1, 'Abc'), (2, 'Python'), (10, '홍길동'), (100, 'Wes')])\n",
            "1 Abc\n",
            "2 Python\n",
            "10 홍길동\n",
            "100 Wes\n"
          ],
          "name": "stdout"
        }
      ]
    },
    {
      "cell_type": "code",
      "metadata": {
        "id": "_-EUzmoKwM8w",
        "colab_type": "code",
        "colab": {
          "base_uri": "https://localhost:8080/",
          "height": 55
        },
        "outputId": "942446e8-1d50-4c5d-ed5d-bc4b87694b5c"
      },
      "source": [
        "person = {'name': '홍길동',\n",
        "          'age': 16,\n",
        "          'is_married': False,\n",
        "          'phone': ['02-1234-5678', '010-1111-5678'],\n",
        "          'email': {'office': 'hgd@korea.com', 'personal': 'hdg@naver.com'}}\n",
        "print(person)"
      ],
      "execution_count": null,
      "outputs": [
        {
          "output_type": "stream",
          "text": [
            "{'name': '홍길동', 'age': 16, 'is_married': False, 'phone': ['02-1234-5678', '010-1111-5678'], 'email': {'office': 'hgd@korea.com', 'personal': 'hdg@naver.com'}}\n"
          ],
          "name": "stdout"
        }
      ]
    },
    {
      "cell_type": "code",
      "metadata": {
        "id": "jLB7BQudxpJp",
        "colab_type": "code",
        "colab": {
          "base_uri": "https://localhost:8080/",
          "height": 127
        },
        "outputId": "6f37c72d-125f-4594-c942-f7d6c146d138"
      },
      "source": [
        "print(person['name'])  # dict[key]\n",
        "print(person['age'])\n",
        "print(person['phone'])  # list\n",
        "print(person['phone'][0])  # list[index]\n",
        "print(person['email'])  # dict\n",
        "print(person['email']['personal'])  # dict[key]"
      ],
      "execution_count": 23,
      "outputs": [
        {
          "output_type": "stream",
          "text": [
            "홍길동\n",
            "16\n",
            "['02-1234-5678', '010-1111-5678']\n",
            "02-1234-5678\n",
            "{'office': 'hgd@korea.com', 'personal': 'hdg@naver.com'}\n",
            "hdg@naver.com\n"
          ],
          "name": "stdout"
        }
      ]
    },
    {
      "cell_type": "code",
      "metadata": {
        "id": "SiVo6Lg7zOyR",
        "colab_type": "code",
        "colab": {
          "base_uri": "https://localhost:8080/",
          "height": 35
        },
        "outputId": "43cf27be-60b3-4828-cb5b-0d17b9028186"
      },
      "source": [
        "student_id = [1, 2, 3]\n",
        "student_name = ['aaa', 'bbb', 'ccc']\n",
        "students = {}  # 빈 딕셔너리(empty dictionary)\n",
        "for id, name in zip(student_id, student_name):\n",
        "    # print(id, name)\n",
        "    students[id] = name  # dict에 key-value 데이터를 추가\n",
        "\n",
        "print(students)"
      ],
      "execution_count": 25,
      "outputs": [
        {
          "output_type": "stream",
          "text": [
            "{1: 'aaa', 2: 'bbb', 3: 'ccc'}\n"
          ],
          "name": "stdout"
        }
      ]
    },
    {
      "cell_type": "code",
      "metadata": {
        "id": "CgMAfmQN0iDZ",
        "colab_type": "code",
        "colab": {
          "base_uri": "https://localhost:8080/",
          "height": 35
        },
        "outputId": "b0d5fad5-9d31-4958-df26-6005e1608682"
      },
      "source": [
        "# dictionary comprehension\n",
        "students2 = {k: v for k, v in zip(student_id, student_name)}\n",
        "print(students2)"
      ],
      "execution_count": 26,
      "outputs": [
        {
          "output_type": "stream",
          "text": [
            "{1: 'aaa', 2: 'bbb', 3: 'ccc'}\n"
          ],
          "name": "stdout"
        }
      ]
    }
  ]
}