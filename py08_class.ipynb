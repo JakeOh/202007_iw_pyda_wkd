{
  "nbformat": 4,
  "nbformat_minor": 0,
  "metadata": {
    "colab": {
      "name": "py08_class.ipynb",
      "provenance": [],
      "collapsed_sections": [],
      "authorship_tag": "ABX9TyPo35ci2GCrmy1naFefJqSR",
      "include_colab_link": true
    },
    "kernelspec": {
      "name": "python3",
      "display_name": "Python 3"
    }
  },
  "cells": [
    {
      "cell_type": "markdown",
      "metadata": {
        "id": "view-in-github",
        "colab_type": "text"
      },
      "source": [
        "<a href=\"https://colab.research.google.com/github/JakeOh/202007_iw_pyda_wkd/blob/master/py08_class.ipynb\" target=\"_parent\"><img src=\"https://colab.research.google.com/assets/colab-badge.svg\" alt=\"Open In Colab\"/></a>"
      ]
    },
    {
      "cell_type": "code",
      "metadata": {
        "id": "g8L8rG8QbhT4",
        "colab_type": "code",
        "colab": {
          "base_uri": "https://localhost:8080/",
          "height": 72
        },
        "outputId": "f3f8486c-809b-4cfc-9acc-8cc9906d5a43"
      },
      "source": [
        "n = 1\n",
        "print(type(n))\n",
        "\n",
        "s = 'abc'\n",
        "print(type(s))\n",
        "\n",
        "l = [1, 2, 3]\n",
        "print(type(l))"
      ],
      "execution_count": 3,
      "outputs": [
        {
          "output_type": "stream",
          "text": [
            "<class 'int'>\n",
            "<class 'str'>\n",
            "<class 'list'>\n"
          ],
          "name": "stdout"
        }
      ]
    },
    {
      "cell_type": "code",
      "metadata": {
        "id": "5KXARagscV5Z",
        "colab_type": "code",
        "colab": {
          "base_uri": "https://localhost:8080/",
          "height": 35
        },
        "outputId": "5d22a231-b047-446b-a397-96d457ee881b"
      },
      "source": [
        "s.upper()"
      ],
      "execution_count": 4,
      "outputs": [
        {
          "output_type": "execute_result",
          "data": {
            "application/vnd.google.colaboratory.intrinsic": {
              "type": "string"
            },
            "text/plain": [
              "'ABC'"
            ]
          },
          "metadata": {
            "tags": []
          },
          "execution_count": 4
        }
      ]
    },
    {
      "cell_type": "code",
      "metadata": {
        "id": "8CxhWI_AcgoU",
        "colab_type": "code",
        "colab": {
          "base_uri": "https://localhost:8080/",
          "height": 35
        },
        "outputId": "804c3717-9acc-49a1-b7a3-479f24419f53"
      },
      "source": [
        "s.capitalize()"
      ],
      "execution_count": 5,
      "outputs": [
        {
          "output_type": "execute_result",
          "data": {
            "application/vnd.google.colaboratory.intrinsic": {
              "type": "string"
            },
            "text/plain": [
              "'Abc'"
            ]
          },
          "metadata": {
            "tags": []
          },
          "execution_count": 5
        }
      ]
    },
    {
      "cell_type": "code",
      "metadata": {
        "id": "OXxB9qdRc3O0",
        "colab_type": "code",
        "colab": {
          "base_uri": "https://localhost:8080/",
          "height": 72
        },
        "outputId": "1056853e-6bc9-49a4-b35e-b42e51729f89"
      },
      "source": [
        "# s2 = 'hello python'\n",
        "s2 = str('hello python')\n",
        "print(s2)\n",
        "print(s2.upper())\n",
        "print(s2.capitalize())"
      ],
      "execution_count": 9,
      "outputs": [
        {
          "output_type": "stream",
          "text": [
            "hello python\n",
            "HELLO PYTHON\n",
            "Hello python\n"
          ],
          "name": "stdout"
        }
      ]
    },
    {
      "cell_type": "markdown",
      "metadata": {
        "id": "4zSnxWLIditH",
        "colab_type": "text"
      },
      "source": [
        "class(클래스): 데이터(변수)와 기능(함수)를 함께 가지고 있는 자료 타입.\n",
        "<br>\n",
        "attribute(속성), property(특성): 클래스가 가지고 있는 데이터(변수)\n",
        "<br>\n",
        "method(메서드): 클래스가 가지고 있는 기능(함수)"
      ]
    },
    {
      "cell_type": "code",
      "metadata": {
        "id": "2hagFm6meHiB",
        "colab_type": "code",
        "colab": {}
      },
      "source": [
        "class Calculator:\n",
        "    def __init__(self, x, y):\n",
        "        self.x = x\n",
        "        self.y = y\n",
        "\n",
        "    def add(self):\n",
        "        return self.x + self.y\n",
        "\n",
        "    def subtract(self):\n",
        "        return self.x - self.y"
      ],
      "execution_count": 10,
      "outputs": []
    },
    {
      "cell_type": "code",
      "metadata": {
        "id": "yRnVCWcli8Hj",
        "colab_type": "code",
        "colab": {
          "base_uri": "https://localhost:8080/",
          "height": 54
        },
        "outputId": "aa45f949-7d86-41ab-b04d-1d58fd23ebb9"
      },
      "source": [
        "# 클래스의 인스턴스 생성\n",
        "calc1 = Calculator(x=1, y=2)  # 클래스의 __init__ 메서드가 호출됨.\n",
        "add = calc1.add()  # 인스턴스 calc1의 add 메서드 호출\n",
        "print(add)\n",
        "sub = calc1.subtract()  # 인스턴스 calc1의 subtract 메서드 호출\n",
        "print(sub)"
      ],
      "execution_count": 13,
      "outputs": [
        {
          "output_type": "stream",
          "text": [
            "3\n",
            "-1\n"
          ],
          "name": "stdout"
        }
      ]
    },
    {
      "cell_type": "code",
      "metadata": {
        "id": "g9qP6rPqmrDE",
        "colab_type": "code",
        "colab": {
          "base_uri": "https://localhost:8080/",
          "height": 54
        },
        "outputId": "f6fe9520-b4d5-4215-dca1-a7ac0119d942"
      },
      "source": [
        "calc2 = Calculator(100, 10)  # 인스턴스 생성\n",
        "print(calc2.add())  # 메서드 호출\n",
        "print(calc2.subtract())"
      ],
      "execution_count": 14,
      "outputs": [
        {
          "output_type": "stream",
          "text": [
            "110\n",
            "90\n"
          ],
          "name": "stdout"
        }
      ]
    }
  ]
}