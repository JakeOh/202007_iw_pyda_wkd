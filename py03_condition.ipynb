{
  "nbformat": 4,
  "nbformat_minor": 0,
  "metadata": {
    "colab": {
      "name": "py03_condition.ipynb",
      "provenance": [],
      "collapsed_sections": [],
      "authorship_tag": "ABX9TyNvayaKq1U2dPHLCvysbyvo",
      "include_colab_link": true
    },
    "kernelspec": {
      "name": "python3",
      "display_name": "Python 3"
    }
  },
  "cells": [
    {
      "cell_type": "markdown",
      "metadata": {
        "id": "view-in-github",
        "colab_type": "text"
      },
      "source": [
        "<a href=\"https://colab.research.google.com/github/JakeOh/202007_iw_pyda_wkd/blob/master/py03_condition.ipynb\" target=\"_parent\"><img src=\"https://colab.research.google.com/assets/colab-badge.svg\" alt=\"Open In Colab\"/></a>"
      ]
    },
    {
      "cell_type": "markdown",
      "metadata": {
        "id": "f0OaoOVu1O02",
        "colab_type": "text"
      },
      "source": [
        "# 조건문(Conditional Statement)"
      ]
    },
    {
      "cell_type": "markdown",
      "metadata": {
        "id": "RsHdzZGA1XjU",
        "colab_type": "text"
      },
      "source": [
        "조건문: 조건을 만족하는 경우에 실행하는 문장\n",
        "<pre>\n",
        "if 조건식:\n",
        "    조건식이 참일 때 실행할 문장들\n",
        "</pre>"
      ]
    },
    {
      "cell_type": "code",
      "metadata": {
        "id": "xiUvtpEB1ClA",
        "colab_type": "code",
        "colab": {}
      },
      "source": [
        "age = -1\n",
        "\n",
        "if age >= 0:\n",
        "    # age가 0 이상일 때 실행할 문장들(코드 블록)\n",
        "    print('age:', age)\n",
        "\n",
        "# if 바깥 블록(if와 상관없이 순서대로 실행될 문장들)\n",
        "print('코드 끝')"
      ],
      "execution_count": 5,
      "outputs": []
    },
    {
      "cell_type": "markdown",
      "metadata": {
        "id": "UmOPbKdv5SHF",
        "colab_type": "text"
      },
      "source": [
        "if-else 구문\n",
        "<pre>\n",
        "if 조건식:\n",
        "    조건식이 참일 때 실행할 문장들\n",
        "else:\n",
        "    조건식이 거짓일 때 실행할 문장들\n",
        "</pre>"
      ]
    },
    {
      "cell_type": "code",
      "metadata": {
        "id": "VpLvpEdK5m0Z",
        "colab_type": "code",
        "colab": {
          "base_uri": "https://localhost:8080/",
          "height": 51
        },
        "outputId": "f356f7e5-c738-4693-acb3-65933bfed23b"
      },
      "source": [
        "age = -1\n",
        "if age >= 0:\n",
        "    print('age:', age)\n",
        "else:\n",
        "    print('나이는 0 이상이어야 합니다!')\n",
        "\n",
        "print('코드 끝')"
      ],
      "execution_count": 7,
      "outputs": [
        {
          "output_type": "stream",
          "text": [
            "나이는 0 이상이어야 합니다!\n",
            "코드 끝\n"
          ],
          "name": "stdout"
        }
      ]
    },
    {
      "cell_type": "markdown",
      "metadata": {
        "id": "pLGQm1bb7U8E",
        "colab_type": "text"
      },
      "source": [
        "if-elif-else 구문\n",
        "<pre>\n",
        "if 조건식1:\n",
        "    조건식1이 참일 때 실행할 문장들\n",
        "elif 조건식2:\n",
        "    조건식2가 참일 때 실행할 문장들\n",
        "...\n",
        "else:\n",
        "    위의 모든 조건식들이 거짓일 때 실행할 문장들\n",
        "</pre>"
      ]
    },
    {
      "cell_type": "code",
      "metadata": {
        "id": "hOdqNC7X76-b",
        "colab_type": "code",
        "colab": {
          "base_uri": "https://localhost:8080/",
          "height": 34
        },
        "outputId": "e9c8a3ac-a30c-436e-f4e4-86e298f9b243"
      },
      "source": [
        "# 시험 점수 score\n",
        "# score >= 90 -> A\n",
        "# score >= 80 -> B\n",
        "# score >= 70 -> C\n",
        "# 나머지 -> F\n",
        "\n",
        "score = 70\n",
        "if score >= 90:\n",
        "    print('A')\n",
        "elif score >= 80:\n",
        "    print('B')\n",
        "elif score >= 70:\n",
        "    print('C')\n",
        "else:\n",
        "    print('F')"
      ],
      "execution_count": 10,
      "outputs": [
        {
          "output_type": "stream",
          "text": [
            "C\n"
          ],
          "name": "stdout"
        }
      ]
    },
    {
      "cell_type": "code",
      "metadata": {
        "id": "5YfUZje9-Vk7",
        "colab_type": "code",
        "colab": {
          "base_uri": "https://localhost:8080/",
          "height": 51
        },
        "outputId": "6bad7cca-5ecd-428b-fbbb-a0451254bfc9"
      },
      "source": [
        "name = input('이름을 입력하세요>>>')\n",
        "print('안녕하세요,', name, '님...')"
      ],
      "execution_count": 11,
      "outputs": [
        {
          "output_type": "stream",
          "text": [
            "이름을 입력하세요>>>aaa\n",
            "안녕하세요, aaa 님...\n"
          ],
          "name": "stdout"
        }
      ]
    },
    {
      "cell_type": "code",
      "metadata": {
        "id": "jg0ii4aA_MjK",
        "colab_type": "code",
        "colab": {
          "base_uri": "https://localhost:8080/",
          "height": 51
        },
        "outputId": "57007066-0a3e-42ac-eda5-ad4419402ada"
      },
      "source": [
        "# int(문자열): 문자열을 정수로 변환\n",
        "# age = input('나이를 입력하세요>>> ')\n",
        "# age = int(age)\n",
        "age = int(input('나이 입력>>> '))\n",
        "type(age)"
      ],
      "execution_count": 15,
      "outputs": [
        {
          "output_type": "stream",
          "text": [
            "나이 입력>>> 16\n"
          ],
          "name": "stdout"
        },
        {
          "output_type": "execute_result",
          "data": {
            "text/plain": [
              "int"
            ]
          },
          "metadata": {
            "tags": []
          },
          "execution_count": 15
        }
      ]
    },
    {
      "cell_type": "code",
      "metadata": {
        "id": "PD22iJKaA9fj",
        "colab_type": "code",
        "colab": {
          "base_uri": "https://localhost:8080/",
          "height": 51
        },
        "outputId": "9b5d2ada-0302-40ce-e3fe-519d845d3e45"
      },
      "source": [
        "# 정수를 입력받아서, 짝수인지 홀수인지를 출력\n",
        "number = int(input('정수 입력>>> '))\n",
        "if number % 2 == 0:\n",
        "    print('짝수')\n",
        "else:\n",
        "    print('홀수')"
      ],
      "execution_count": 18,
      "outputs": [
        {
          "output_type": "stream",
          "text": [
            "정수 입력>>> 123\n",
            "홀수\n"
          ],
          "name": "stdout"
        }
      ]
    }
  ]
}